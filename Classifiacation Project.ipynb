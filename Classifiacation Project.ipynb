{
  "nbformat": 4,
  "nbformat_minor": 0,
  "metadata": {
    "colab": {
      "name": "12732354_ Furkan Gencer_Machine Learning Final Project Codes.ipynb",
      "provenance": [],
      "collapsed_sections": []
    },
    "kernelspec": {
      "display_name": "Python 3",
      "language": "python",
      "name": "python3"
    },
    "language_info": {
      "codemirror_mode": {
        "name": "ipython",
        "version": 3
      },
      "file_extension": ".py",
      "mimetype": "text/x-python",
      "name": "python",
      "nbconvert_exporter": "python",
      "pygments_lexer": "ipython3",
      "version": "3.8.8"
    }
  },
  "cells": [
    {
      "cell_type": "markdown",
      "metadata": {
        "id": "HW47w2OoPlNP"
      },
      "source": [
        "**Data Scientist-Ahmet Zafer SAGLIK**\n"
      ]
    },
    {
      "cell_type": "markdown",
      "metadata": {
        "id": "3Gu5qVyWPlNS"
      },
      "source": [
        "# Introduction \n",
        "The objective of this project is to predict the purchasing decision of policyholders for the car insurance product.\n",
        "About Dataset\n",
        "Data source: https://www.kaggle.com/anmolkumar/health-insurance-cross-sell-prediction\n",
        "\n",
        "Kaggle Data Usability:10.0 \n",
        "\n",
        "## Background \n",
        "In this dataset, we have the features about policyholder regarding demographics (gender, age, driving license, region code type), Vehicles (Vehicle Age, Damage), Policy (id, previously insured, premium, sourcing channel, vintage), etc. Target will be the response of the policy holders (0 or 1) concerning the purchase of the car insurance. Above mentioned features will be used to predict the response (target) of the policy holders.\n",
        "## Project Introduction\n",
        "Since the insurance companies are making profit from risk-pooling. They need to reach out to as many as people via the correct channels that will catalyze them to buy the insurance products (Car insurance). Given the fact that most of the insurance companies have or request detailed information about their current customers, it puts them in an advantageous position regarding the potential use of big data. In this project, I will apply machine learning algorithms for an insurance company who wants to reach out to more target customers.\n",
        "\n",
        "\n",
        "\n",
        "## Implementation Steps\n",
        "\n",
        "\n",
        "\n",
        "1) Loading of the packages and Reading Into Data\n",
        "\n",
        "2) Data Visualization/Data Transformation\n",
        "\n",
        "3) Training Model\n",
        "\n",
        "4) Model Selection \n",
        "\n",
        "5) Parameter Tuning/ Optimization\n",
        "\n"
      ]
    },
    {
      "cell_type": "markdown",
      "metadata": {
        "id": "yVeOZwx5PlNU"
      },
      "source": [
        "## Information about columns:\n",
        "\n",
        "id - Unique ID for the customer\n",
        "\n",
        "Gender - Gender of the customer\n",
        "\n",
        "Age - Age of the customer\n",
        "\n",
        "Driving_License - 0 : Customer does not have DL, 1 : Customer already has DL\n",
        "\n",
        "Region_Code - Unique code for the region of the customer\n",
        "\n",
        "Previously_Insured - 1 : Customer already has Vehicle Insurance, 0 : Customer doesn't have Vehicle Insurance\n",
        "Vehicle_Age - Age of the Vehicle\n",
        "\n",
        "Vehicle_Damage - 1 : Customer got his/her vehicle damaged in the past. 0 : Customer didn't get his/her vehicle damaged in the past.\n",
        "\n",
        "Annual_Premium - The amount customer needs to pay as premium in the year\n",
        "\n",
        "PolicySalesChannel - Anonymized Code for the channel of outreaching to the customer ie.,Different Agents, Over Mail, Over Phone, In Person, etc.\n",
        "\n",
        "Vintage - Number of Days, Customer has been associated with the company\n",
        "\n",
        "Response - 1 : Customer is interested, 0 : Customer is not interested"
      ]
    },
    {
      "cell_type": "markdown",
      "metadata": {
        "id": "N9yTR52FrW1Z"
      },
      "source": [
        "# 1. Loading of the packages and Reading Into Data"
      ]
    },
    {
      "cell_type": "code",
      "metadata": {
        "id": "rGE6wcDcqrXe"
      },
      "source": [
        "## Uploading the necessary libraries that will help to make data loading, transformation and visualization\n",
        "\n",
        "import numpy as np\n",
        "import matplotlib.pyplot as plt\n",
        "import pandas as pd\n",
        "from sklearn.model_selection import train_test_split\n",
        "from sklearn.impute import SimpleImputer\n",
        "from sklearn.compose import ColumnTransformer\n",
        "from sklearn.preprocessing import OneHotEncoder\n",
        "from sklearn.preprocessing import StandardScaler,MinMaxScaler\n",
        "import seaborn as sns\n",
        "# from statistics import mean\n",
        "import warnings; warnings.filterwarnings(\"ignore\")\n"
      ],
      "execution_count": null,
      "outputs": []
    },
    {
      "cell_type": "markdown",
      "metadata": {
        "id": "7Sm1I32kPlNV"
      },
      "source": [
        "# 2) Data Visualization/Data Transformation,"
      ]
    },
    {
      "cell_type": "code",
      "metadata": {
        "id": "00ApWkPOrJpV"
      },
      "source": [
        "df = pd.read_csv('train.csv')\n"
      ],
      "execution_count": null,
      "outputs": []
    },
    {
      "cell_type": "code",
      "metadata": {
        "colab": {
          "base_uri": "https://localhost:8080/",
          "height": 162
        },
        "id": "qOfxA0TZrvIE",
        "outputId": "89cead5e-12de-44fc-9cc3-423966cc181c"
      },
      "source": [
        "\n",
        "df.head(3)"
      ],
      "execution_count": null,
      "outputs": [
        {
          "output_type": "execute_result",
          "data": {
            "text/html": [
              "<div>\n",
              "<style scoped>\n",
              "    .dataframe tbody tr th:only-of-type {\n",
              "        vertical-align: middle;\n",
              "    }\n",
              "\n",
              "    .dataframe tbody tr th {\n",
              "        vertical-align: top;\n",
              "    }\n",
              "\n",
              "    .dataframe thead th {\n",
              "        text-align: right;\n",
              "    }\n",
              "</style>\n",
              "<table border=\"1\" class=\"dataframe\">\n",
              "  <thead>\n",
              "    <tr style=\"text-align: right;\">\n",
              "      <th></th>\n",
              "      <th>id</th>\n",
              "      <th>Gender</th>\n",
              "      <th>Age</th>\n",
              "      <th>Driving_License</th>\n",
              "      <th>Region_Code</th>\n",
              "      <th>Previously_Insured</th>\n",
              "      <th>Vehicle_Age</th>\n",
              "      <th>Vehicle_Damage</th>\n",
              "      <th>Annual_Premium</th>\n",
              "      <th>Policy_Sales_Channel</th>\n",
              "      <th>Vintage</th>\n",
              "      <th>Response</th>\n",
              "    </tr>\n",
              "  </thead>\n",
              "  <tbody>\n",
              "    <tr>\n",
              "      <th>0</th>\n",
              "      <td>1</td>\n",
              "      <td>Male</td>\n",
              "      <td>44</td>\n",
              "      <td>1</td>\n",
              "      <td>28.0</td>\n",
              "      <td>0</td>\n",
              "      <td>&gt; 2 Years</td>\n",
              "      <td>Yes</td>\n",
              "      <td>40454.0</td>\n",
              "      <td>26.0</td>\n",
              "      <td>217</td>\n",
              "      <td>1</td>\n",
              "    </tr>\n",
              "    <tr>\n",
              "      <th>1</th>\n",
              "      <td>2</td>\n",
              "      <td>Male</td>\n",
              "      <td>76</td>\n",
              "      <td>1</td>\n",
              "      <td>3.0</td>\n",
              "      <td>0</td>\n",
              "      <td>1-2 Year</td>\n",
              "      <td>No</td>\n",
              "      <td>33536.0</td>\n",
              "      <td>26.0</td>\n",
              "      <td>183</td>\n",
              "      <td>0</td>\n",
              "    </tr>\n",
              "    <tr>\n",
              "      <th>2</th>\n",
              "      <td>3</td>\n",
              "      <td>Male</td>\n",
              "      <td>47</td>\n",
              "      <td>1</td>\n",
              "      <td>28.0</td>\n",
              "      <td>0</td>\n",
              "      <td>&gt; 2 Years</td>\n",
              "      <td>Yes</td>\n",
              "      <td>38294.0</td>\n",
              "      <td>26.0</td>\n",
              "      <td>27</td>\n",
              "      <td>1</td>\n",
              "    </tr>\n",
              "  </tbody>\n",
              "</table>\n",
              "</div>"
            ],
            "text/plain": [
              "   id Gender  Age  Driving_License  Region_Code  Previously_Insured  \\\n",
              "0   1   Male   44                1         28.0                   0   \n",
              "1   2   Male   76                1          3.0                   0   \n",
              "2   3   Male   47                1         28.0                   0   \n",
              "\n",
              "  Vehicle_Age Vehicle_Damage  Annual_Premium  Policy_Sales_Channel  Vintage  \\\n",
              "0   > 2 Years            Yes         40454.0                  26.0      217   \n",
              "1    1-2 Year             No         33536.0                  26.0      183   \n",
              "2   > 2 Years            Yes         38294.0                  26.0       27   \n",
              "\n",
              "   Response  \n",
              "0         1  \n",
              "1         0  \n",
              "2         1  "
            ]
          },
          "metadata": {
            "tags": []
          },
          "execution_count": 839
        }
      ]
    },
    {
      "cell_type": "code",
      "metadata": {
        "id": "HIOv6JP_PlNW",
        "outputId": "befaca8b-7edb-475e-b129-e7682f3849de"
      },
      "source": [
        "# To check that our replace function worked properly on the dataset\n",
        "df.head(10)"
      ],
      "execution_count": null,
      "outputs": [
        {
          "output_type": "execute_result",
          "data": {
            "text/html": [
              "<div>\n",
              "<style scoped>\n",
              "    .dataframe tbody tr th:only-of-type {\n",
              "        vertical-align: middle;\n",
              "    }\n",
              "\n",
              "    .dataframe tbody tr th {\n",
              "        vertical-align: top;\n",
              "    }\n",
              "\n",
              "    .dataframe thead th {\n",
              "        text-align: right;\n",
              "    }\n",
              "</style>\n",
              "<table border=\"1\" class=\"dataframe\">\n",
              "  <thead>\n",
              "    <tr style=\"text-align: right;\">\n",
              "      <th></th>\n",
              "      <th>id</th>\n",
              "      <th>Gender</th>\n",
              "      <th>Age</th>\n",
              "      <th>Driving_License</th>\n",
              "      <th>Region_Code</th>\n",
              "      <th>Previously_Insured</th>\n",
              "      <th>Vehicle_Age</th>\n",
              "      <th>Vehicle_Damage</th>\n",
              "      <th>Annual_Premium</th>\n",
              "      <th>Policy_Sales_Channel</th>\n",
              "      <th>Vintage</th>\n",
              "      <th>Response</th>\n",
              "    </tr>\n",
              "  </thead>\n",
              "  <tbody>\n",
              "    <tr>\n",
              "      <th>0</th>\n",
              "      <td>1</td>\n",
              "      <td>Male</td>\n",
              "      <td>44</td>\n",
              "      <td>1</td>\n",
              "      <td>28.0</td>\n",
              "      <td>0</td>\n",
              "      <td>&gt; 2 Years</td>\n",
              "      <td>Yes</td>\n",
              "      <td>40454.0</td>\n",
              "      <td>26.0</td>\n",
              "      <td>217</td>\n",
              "      <td>1</td>\n",
              "    </tr>\n",
              "    <tr>\n",
              "      <th>1</th>\n",
              "      <td>2</td>\n",
              "      <td>Male</td>\n",
              "      <td>76</td>\n",
              "      <td>1</td>\n",
              "      <td>3.0</td>\n",
              "      <td>0</td>\n",
              "      <td>1-2 Year</td>\n",
              "      <td>No</td>\n",
              "      <td>33536.0</td>\n",
              "      <td>26.0</td>\n",
              "      <td>183</td>\n",
              "      <td>0</td>\n",
              "    </tr>\n",
              "    <tr>\n",
              "      <th>2</th>\n",
              "      <td>3</td>\n",
              "      <td>Male</td>\n",
              "      <td>47</td>\n",
              "      <td>1</td>\n",
              "      <td>28.0</td>\n",
              "      <td>0</td>\n",
              "      <td>&gt; 2 Years</td>\n",
              "      <td>Yes</td>\n",
              "      <td>38294.0</td>\n",
              "      <td>26.0</td>\n",
              "      <td>27</td>\n",
              "      <td>1</td>\n",
              "    </tr>\n",
              "    <tr>\n",
              "      <th>3</th>\n",
              "      <td>4</td>\n",
              "      <td>Male</td>\n",
              "      <td>21</td>\n",
              "      <td>1</td>\n",
              "      <td>11.0</td>\n",
              "      <td>1</td>\n",
              "      <td>&lt; 1 Year</td>\n",
              "      <td>No</td>\n",
              "      <td>28619.0</td>\n",
              "      <td>152.0</td>\n",
              "      <td>203</td>\n",
              "      <td>0</td>\n",
              "    </tr>\n",
              "    <tr>\n",
              "      <th>4</th>\n",
              "      <td>5</td>\n",
              "      <td>Female</td>\n",
              "      <td>29</td>\n",
              "      <td>1</td>\n",
              "      <td>41.0</td>\n",
              "      <td>1</td>\n",
              "      <td>&lt; 1 Year</td>\n",
              "      <td>No</td>\n",
              "      <td>27496.0</td>\n",
              "      <td>152.0</td>\n",
              "      <td>39</td>\n",
              "      <td>0</td>\n",
              "    </tr>\n",
              "    <tr>\n",
              "      <th>5</th>\n",
              "      <td>6</td>\n",
              "      <td>Female</td>\n",
              "      <td>24</td>\n",
              "      <td>1</td>\n",
              "      <td>33.0</td>\n",
              "      <td>0</td>\n",
              "      <td>&lt; 1 Year</td>\n",
              "      <td>Yes</td>\n",
              "      <td>2630.0</td>\n",
              "      <td>160.0</td>\n",
              "      <td>176</td>\n",
              "      <td>0</td>\n",
              "    </tr>\n",
              "    <tr>\n",
              "      <th>6</th>\n",
              "      <td>7</td>\n",
              "      <td>Male</td>\n",
              "      <td>23</td>\n",
              "      <td>1</td>\n",
              "      <td>11.0</td>\n",
              "      <td>0</td>\n",
              "      <td>&lt; 1 Year</td>\n",
              "      <td>Yes</td>\n",
              "      <td>23367.0</td>\n",
              "      <td>152.0</td>\n",
              "      <td>249</td>\n",
              "      <td>0</td>\n",
              "    </tr>\n",
              "    <tr>\n",
              "      <th>7</th>\n",
              "      <td>8</td>\n",
              "      <td>Female</td>\n",
              "      <td>56</td>\n",
              "      <td>1</td>\n",
              "      <td>28.0</td>\n",
              "      <td>0</td>\n",
              "      <td>1-2 Year</td>\n",
              "      <td>Yes</td>\n",
              "      <td>32031.0</td>\n",
              "      <td>26.0</td>\n",
              "      <td>72</td>\n",
              "      <td>1</td>\n",
              "    </tr>\n",
              "    <tr>\n",
              "      <th>8</th>\n",
              "      <td>9</td>\n",
              "      <td>Female</td>\n",
              "      <td>24</td>\n",
              "      <td>1</td>\n",
              "      <td>3.0</td>\n",
              "      <td>1</td>\n",
              "      <td>&lt; 1 Year</td>\n",
              "      <td>No</td>\n",
              "      <td>27619.0</td>\n",
              "      <td>152.0</td>\n",
              "      <td>28</td>\n",
              "      <td>0</td>\n",
              "    </tr>\n",
              "    <tr>\n",
              "      <th>9</th>\n",
              "      <td>10</td>\n",
              "      <td>Female</td>\n",
              "      <td>32</td>\n",
              "      <td>1</td>\n",
              "      <td>6.0</td>\n",
              "      <td>1</td>\n",
              "      <td>&lt; 1 Year</td>\n",
              "      <td>No</td>\n",
              "      <td>28771.0</td>\n",
              "      <td>152.0</td>\n",
              "      <td>80</td>\n",
              "      <td>0</td>\n",
              "    </tr>\n",
              "  </tbody>\n",
              "</table>\n",
              "</div>"
            ],
            "text/plain": [
              "   id  Gender  Age  Driving_License  Region_Code  Previously_Insured  \\\n",
              "0   1    Male   44                1         28.0                   0   \n",
              "1   2    Male   76                1          3.0                   0   \n",
              "2   3    Male   47                1         28.0                   0   \n",
              "3   4    Male   21                1         11.0                   1   \n",
              "4   5  Female   29                1         41.0                   1   \n",
              "5   6  Female   24                1         33.0                   0   \n",
              "6   7    Male   23                1         11.0                   0   \n",
              "7   8  Female   56                1         28.0                   0   \n",
              "8   9  Female   24                1          3.0                   1   \n",
              "9  10  Female   32                1          6.0                   1   \n",
              "\n",
              "  Vehicle_Age Vehicle_Damage  Annual_Premium  Policy_Sales_Channel  Vintage  \\\n",
              "0   > 2 Years            Yes         40454.0                  26.0      217   \n",
              "1    1-2 Year             No         33536.0                  26.0      183   \n",
              "2   > 2 Years            Yes         38294.0                  26.0       27   \n",
              "3    < 1 Year             No         28619.0                 152.0      203   \n",
              "4    < 1 Year             No         27496.0                 152.0       39   \n",
              "5    < 1 Year            Yes          2630.0                 160.0      176   \n",
              "6    < 1 Year            Yes         23367.0                 152.0      249   \n",
              "7    1-2 Year            Yes         32031.0                  26.0       72   \n",
              "8    < 1 Year             No         27619.0                 152.0       28   \n",
              "9    < 1 Year             No         28771.0                 152.0       80   \n",
              "\n",
              "   Response  \n",
              "0         1  \n",
              "1         0  \n",
              "2         1  \n",
              "3         0  \n",
              "4         0  \n",
              "5         0  \n",
              "6         0  \n",
              "7         1  \n",
              "8         0  \n",
              "9         0  "
            ]
          },
          "metadata": {
            "tags": []
          },
          "execution_count": 840
        }
      ]
    },
    {
      "cell_type": "code",
      "metadata": {
        "colab": {
          "base_uri": "https://localhost:8080/"
        },
        "id": "AsCoR47AvE2C",
        "outputId": "4753250c-7f96-44a4-c699-225f6b07dbfb"
      },
      "source": [
        "# Regarding that we should not have any null value in our dataset to maximize the precision, an overall check of the features is done concerning the null-values. \n",
        "# Dataset has no null-values\n",
        "df.info()\n"
      ],
      "execution_count": null,
      "outputs": [
        {
          "output_type": "stream",
          "text": [
            "<class 'pandas.core.frame.DataFrame'>\n",
            "RangeIndex: 381109 entries, 0 to 381108\n",
            "Data columns (total 12 columns):\n",
            " #   Column                Non-Null Count   Dtype  \n",
            "---  ------                --------------   -----  \n",
            " 0   id                    381109 non-null  int64  \n",
            " 1   Gender                381109 non-null  object \n",
            " 2   Age                   381109 non-null  int64  \n",
            " 3   Driving_License       381109 non-null  int64  \n",
            " 4   Region_Code           381109 non-null  float64\n",
            " 5   Previously_Insured    381109 non-null  int64  \n",
            " 6   Vehicle_Age           381109 non-null  object \n",
            " 7   Vehicle_Damage        381109 non-null  object \n",
            " 8   Annual_Premium        381109 non-null  float64\n",
            " 9   Policy_Sales_Channel  381109 non-null  float64\n",
            " 10  Vintage               381109 non-null  int64  \n",
            " 11  Response              381109 non-null  int64  \n",
            "dtypes: float64(3), int64(6), object(3)\n",
            "memory usage: 34.9+ MB\n"
          ],
          "name": "stdout"
        }
      ]
    },
    {
      "cell_type": "code",
      "metadata": {
        "id": "gsBu5PrjPlNY",
        "outputId": "d990cbd1-3f77-4529-8579-43f477ddc9be"
      },
      "source": [
        "# List of dropped columns that are not necessary for our task\n",
        "drop_columns = [\"id\",\"Region_Code\"]\n",
        "\n",
        "df = df.drop(drop_columns, axis=1)\n",
        "\n",
        "print(df.head())"
      ],
      "execution_count": null,
      "outputs": [
        {
          "output_type": "stream",
          "text": [
            "   Gender  Age  Driving_License  Previously_Insured Vehicle_Age  \\\n",
            "0    Male   44                1                   0   > 2 Years   \n",
            "1    Male   76                1                   0    1-2 Year   \n",
            "2    Male   47                1                   0   > 2 Years   \n",
            "3    Male   21                1                   1    < 1 Year   \n",
            "4  Female   29                1                   1    < 1 Year   \n",
            "\n",
            "  Vehicle_Damage  Annual_Premium  Policy_Sales_Channel  Vintage  Response  \n",
            "0            Yes         40454.0                  26.0      217         1  \n",
            "1             No         33536.0                  26.0      183         0  \n",
            "2            Yes         38294.0                  26.0       27         1  \n",
            "3             No         28619.0                 152.0      203         0  \n",
            "4             No         27496.0                 152.0       39         0  \n"
          ],
          "name": "stdout"
        }
      ]
    },
    {
      "cell_type": "code",
      "metadata": {
        "id": "DgWxx3LvPlNY",
        "outputId": "27612320-0dbd-458c-bbc9-1d09c7657605"
      },
      "source": [
        "## This table gives us descriptive statistics of the dataset. \n",
        "## We can already see that population is relatively young and we have outliers as seen in the high stdeviation result\n",
        "## Most of the policy holders has a driving licence, derived from the mean value of Driving_Licence Column.\n",
        "df.describe()"
      ],
      "execution_count": null,
      "outputs": [
        {
          "output_type": "execute_result",
          "data": {
            "text/html": [
              "<div>\n",
              "<style scoped>\n",
              "    .dataframe tbody tr th:only-of-type {\n",
              "        vertical-align: middle;\n",
              "    }\n",
              "\n",
              "    .dataframe tbody tr th {\n",
              "        vertical-align: top;\n",
              "    }\n",
              "\n",
              "    .dataframe thead th {\n",
              "        text-align: right;\n",
              "    }\n",
              "</style>\n",
              "<table border=\"1\" class=\"dataframe\">\n",
              "  <thead>\n",
              "    <tr style=\"text-align: right;\">\n",
              "      <th></th>\n",
              "      <th>Age</th>\n",
              "      <th>Driving_License</th>\n",
              "      <th>Previously_Insured</th>\n",
              "      <th>Annual_Premium</th>\n",
              "      <th>Policy_Sales_Channel</th>\n",
              "      <th>Vintage</th>\n",
              "      <th>Response</th>\n",
              "    </tr>\n",
              "  </thead>\n",
              "  <tbody>\n",
              "    <tr>\n",
              "      <th>count</th>\n",
              "      <td>381109.000000</td>\n",
              "      <td>381109.000000</td>\n",
              "      <td>381109.000000</td>\n",
              "      <td>381109.000000</td>\n",
              "      <td>381109.000000</td>\n",
              "      <td>381109.000000</td>\n",
              "      <td>381109.000000</td>\n",
              "    </tr>\n",
              "    <tr>\n",
              "      <th>mean</th>\n",
              "      <td>38.822584</td>\n",
              "      <td>0.997869</td>\n",
              "      <td>0.458210</td>\n",
              "      <td>30564.389581</td>\n",
              "      <td>112.034295</td>\n",
              "      <td>154.347397</td>\n",
              "      <td>0.122563</td>\n",
              "    </tr>\n",
              "    <tr>\n",
              "      <th>std</th>\n",
              "      <td>15.511611</td>\n",
              "      <td>0.046110</td>\n",
              "      <td>0.498251</td>\n",
              "      <td>17213.155057</td>\n",
              "      <td>54.203995</td>\n",
              "      <td>83.671304</td>\n",
              "      <td>0.327936</td>\n",
              "    </tr>\n",
              "    <tr>\n",
              "      <th>min</th>\n",
              "      <td>20.000000</td>\n",
              "      <td>0.000000</td>\n",
              "      <td>0.000000</td>\n",
              "      <td>2630.000000</td>\n",
              "      <td>1.000000</td>\n",
              "      <td>10.000000</td>\n",
              "      <td>0.000000</td>\n",
              "    </tr>\n",
              "    <tr>\n",
              "      <th>25%</th>\n",
              "      <td>25.000000</td>\n",
              "      <td>1.000000</td>\n",
              "      <td>0.000000</td>\n",
              "      <td>24405.000000</td>\n",
              "      <td>29.000000</td>\n",
              "      <td>82.000000</td>\n",
              "      <td>0.000000</td>\n",
              "    </tr>\n",
              "    <tr>\n",
              "      <th>50%</th>\n",
              "      <td>36.000000</td>\n",
              "      <td>1.000000</td>\n",
              "      <td>0.000000</td>\n",
              "      <td>31669.000000</td>\n",
              "      <td>133.000000</td>\n",
              "      <td>154.000000</td>\n",
              "      <td>0.000000</td>\n",
              "    </tr>\n",
              "    <tr>\n",
              "      <th>75%</th>\n",
              "      <td>49.000000</td>\n",
              "      <td>1.000000</td>\n",
              "      <td>1.000000</td>\n",
              "      <td>39400.000000</td>\n",
              "      <td>152.000000</td>\n",
              "      <td>227.000000</td>\n",
              "      <td>0.000000</td>\n",
              "    </tr>\n",
              "    <tr>\n",
              "      <th>max</th>\n",
              "      <td>85.000000</td>\n",
              "      <td>1.000000</td>\n",
              "      <td>1.000000</td>\n",
              "      <td>540165.000000</td>\n",
              "      <td>163.000000</td>\n",
              "      <td>299.000000</td>\n",
              "      <td>1.000000</td>\n",
              "    </tr>\n",
              "  </tbody>\n",
              "</table>\n",
              "</div>"
            ],
            "text/plain": [
              "                 Age  Driving_License  Previously_Insured  Annual_Premium  \\\n",
              "count  381109.000000    381109.000000       381109.000000   381109.000000   \n",
              "mean       38.822584         0.997869            0.458210    30564.389581   \n",
              "std        15.511611         0.046110            0.498251    17213.155057   \n",
              "min        20.000000         0.000000            0.000000     2630.000000   \n",
              "25%        25.000000         1.000000            0.000000    24405.000000   \n",
              "50%        36.000000         1.000000            0.000000    31669.000000   \n",
              "75%        49.000000         1.000000            1.000000    39400.000000   \n",
              "max        85.000000         1.000000            1.000000   540165.000000   \n",
              "\n",
              "       Policy_Sales_Channel        Vintage       Response  \n",
              "count         381109.000000  381109.000000  381109.000000  \n",
              "mean             112.034295     154.347397       0.122563  \n",
              "std               54.203995      83.671304       0.327936  \n",
              "min                1.000000      10.000000       0.000000  \n",
              "25%               29.000000      82.000000       0.000000  \n",
              "50%              133.000000     154.000000       0.000000  \n",
              "75%              152.000000     227.000000       0.000000  \n",
              "max              163.000000     299.000000       1.000000  "
            ]
          },
          "metadata": {
            "tags": []
          },
          "execution_count": 843
        }
      ]
    },
    {
      "cell_type": "code",
      "metadata": {
        "id": "5BQ9T-vDPlNZ",
        "outputId": "e0d1558b-0d91-4a44-a5dd-d9648de3cb7c"
      },
      "source": [
        "## The heatmap below visualizes the correlation between the data features. \n",
        "## There are 3 important features that has relatively higher positive or negative correlation with the response feature; \n",
        "## Age, Previously Insured, Policy_Sales_Channel. \n",
        "## I will focus on these features in the visualizations.\n",
        "\n",
        "\n",
        "plt.figure(figsize=(15, 10))\n",
        "heatmap = sns.heatmap(df.corr(), vmin=-1, vmax=1, annot=True)\n",
        "heatmap.set_title('1.2 Table: Correlation Heatmap', fontdict={'fontsize':12}, pad=12);\n",
        "\n",
        "## source: https://medium.com/@szabo.bibor/how-to-create-a-seaborn-correlation-heatmap-in-python-834c0686b88e"
      ],
      "execution_count": null,
      "outputs": [
        {
          "output_type": "display_data",
          "data": {
            "image/png": "[encoded data removed]",
            "text/plain": [
              "<Figure size 1080x720 with 2 Axes>"
            ]
          },
          "metadata": {
            "tags": [],
            "needs_background": "light"
          }
        }
      ]
    },
    {
      "cell_type": "code",
      "metadata": {
        "id": "jqPqDKR_PlNa",
        "outputId": "ae3783d5-0aa5-43d2-8315-7661cac44758"
      },
      "source": [
        "#Histogram shows the distribution of the policy holders' age.\n",
        "#We have a right-skewed distribution of age.\n",
        "sns.distplot(df.Age)"
      ],
      "execution_count": null,
      "outputs": [
        {
          "output_type": "execute_result",
          "data": {
            "text/plain": [
              "<AxesSubplot:xlabel='Age', ylabel='Density'>"
            ]
          },
          "metadata": {
            "tags": []
          },
          "execution_count": 845
        },
        {
          "output_type": "display_data",
          "data": {
            "image/png": "[encoded data removed]",
            "text/plain": [
              "<Figure size 432x288 with 1 Axes>"
            ]
          },
          "metadata": {
            "tags": [],
            "needs_background": "light"
          }
        }
      ]
    },
    {
      "cell_type": "code",
      "metadata": {
        "id": "jtl-94M3PlNb",
        "outputId": "4c3171d5-41fb-4175-952a-b006101ea022"
      },
      "source": [
        "df['Age'].mean()"
      ],
      "execution_count": null,
      "outputs": [
        {
          "output_type": "execute_result",
          "data": {
            "text/plain": [
              "38.822583565331705"
            ]
          },
          "metadata": {
            "tags": []
          },
          "execution_count": 846
        }
      ]
    },
    {
      "cell_type": "code",
      "metadata": {
        "id": "a7D8KrYiPlNc",
        "outputId": "504cf85f-1fec-4594-b41c-82480babf0a5"
      },
      "source": [
        "df['Age'].median()"
      ],
      "execution_count": null,
      "outputs": [
        {
          "output_type": "execute_result",
          "data": {
            "text/plain": [
              "36.0"
            ]
          },
          "metadata": {
            "tags": []
          },
          "execution_count": 847
        }
      ]
    },
    {
      "cell_type": "code",
      "metadata": {
        "id": "twkyIyqtPlNc",
        "outputId": "d6f152fb-72a2-4269-9df3-cca118827444"
      },
      "source": [
        "## Scatter Plot of the Age and the Annual Premium\n",
        "\n",
        "sns.scatterplot(x=df['Age'],y=df['Annual_Premium'])"
      ],
      "execution_count": null,
      "outputs": [
        {
          "output_type": "execute_result",
          "data": {
            "text/plain": [
              "<AxesSubplot:xlabel='Age', ylabel='Annual_Premium'>"
            ]
          },
          "metadata": {
            "tags": []
          },
          "execution_count": 848
        },
        {
          "output_type": "display_data",
          "data": {
            "image/png": "[encoded data removed]",
            "text/plain": [
              "<Figure size 432x288 with 1 Axes>"
            ]
          },
          "metadata": {
            "tags": [],
            "needs_background": "light"
          }
        }
      ]
    },
    {
      "cell_type": "code",
      "metadata": {
        "id": "kJKiWDpbPlNd",
        "outputId": "aea2727e-8751-44d7-a56a-0b345cbb9e53"
      },
      "source": [
        "## Dataset is balanced in terms of gender. \n",
        "df['Gender'].value_counts()"
      ],
      "execution_count": null,
      "outputs": [
        {
          "output_type": "execute_result",
          "data": {
            "text/plain": [
              "Male      206089\n",
              "Female    175020\n",
              "Name: Gender, dtype: int64"
            ]
          },
          "metadata": {
            "tags": []
          },
          "execution_count": 849
        }
      ]
    },
    {
      "cell_type": "code",
      "metadata": {
        "id": "XbylmkoSPlNd",
        "outputId": "b2e1e76c-489d-414a-c695-25fd55538213"
      },
      "source": [
        "df['Previously_Insured'].value_counts()"
      ],
      "execution_count": null,
      "outputs": [
        {
          "output_type": "execute_result",
          "data": {
            "text/plain": [
              "0    206481\n",
              "1    174628\n",
              "Name: Previously_Insured, dtype: int64"
            ]
          },
          "metadata": {
            "tags": []
          },
          "execution_count": 850
        }
      ]
    },
    {
      "cell_type": "code",
      "metadata": {
        "id": "mPAXu7NfPlNd",
        "outputId": "4d5774fb-222c-4778-9d1e-0135d5fc29c3"
      },
      "source": [
        "# Histogram shows the distribution of the different sales channels. It seems that 152.0, 26.0 and 124.0 are the most used channels to reach out to the customer.\n",
        "sns.distplot(df.Policy_Sales_Channel)"
      ],
      "execution_count": null,
      "outputs": [
        {
          "output_type": "execute_result",
          "data": {
            "text/plain": [
              "<AxesSubplot:xlabel='Policy_Sales_Channel', ylabel='Density'>"
            ]
          },
          "metadata": {
            "tags": []
          },
          "execution_count": 851
        },
        {
          "output_type": "display_data",
          "data": {
            "image/png": "[encoded data removed]",
            "text/plain": [
              "<Figure size 432x288 with 1 Axes>"
            ]
          },
          "metadata": {
            "tags": [],
            "needs_background": "light"
          }
        }
      ]
    },
    {
      "cell_type": "code",
      "metadata": {
        "id": "mavdro6DPlNe",
        "outputId": "900e3815-3dc5-4798-8208-8bf005c16fa4"
      },
      "source": [
        "## There are 3 channels that dominate the communication way of the insurance company with its clients.\n",
        "df['Policy_Sales_Channel'].value_counts()"
      ],
      "execution_count": null,
      "outputs": [
        {
          "output_type": "execute_result",
          "data": {
            "text/plain": [
              "152.0    134784\n",
              "26.0      79700\n",
              "124.0     73995\n",
              "160.0     21779\n",
              "156.0     10661\n",
              "          ...  \n",
              "149.0         1\n",
              "143.0         1\n",
              "43.0          1\n",
              "41.0          1\n",
              "84.0          1\n",
              "Name: Policy_Sales_Channel, Length: 155, dtype: int64"
            ]
          },
          "metadata": {
            "tags": []
          },
          "execution_count": 852
        }
      ]
    },
    {
      "cell_type": "code",
      "metadata": {
        "id": "XPvA0xFbPlNe",
        "outputId": "68427900-57a2-48d6-c359-ec83b16413fe"
      },
      "source": [
        "## As it is visible from the count of 0 and 1 values in Response feature (target), target is unbalanced.\n",
        "\n",
        "df['Response'].value_counts()"
      ],
      "execution_count": null,
      "outputs": [
        {
          "output_type": "execute_result",
          "data": {
            "text/plain": [
              "0    334399\n",
              "1     46710\n",
              "Name: Response, dtype: int64"
            ]
          },
          "metadata": {
            "tags": []
          },
          "execution_count": 853
        }
      ]
    },
    {
      "cell_type": "code",
      "metadata": {
        "id": "V_y2idDfPlNe",
        "outputId": "d9d8c9ff-802a-41ee-fc46-75c93441061f"
      },
      "source": [
        "sns.distplot(df.Response)"
      ],
      "execution_count": null,
      "outputs": [
        {
          "output_type": "execute_result",
          "data": {
            "text/plain": [
              "<AxesSubplot:xlabel='Response', ylabel='Density'>"
            ]
          },
          "metadata": {
            "tags": []
          },
          "execution_count": 854
        },
        {
          "output_type": "display_data",
          "data": {
            "image/png": "[encoded data removed]",
            "text/plain": [
              "<Figure size 432x288 with 1 Axes>"
            ]
          },
          "metadata": {
            "tags": [],
            "needs_background": "light"
          }
        }
      ]
    },
    {
      "cell_type": "markdown",
      "metadata": {
        "id": "Dbl1a-XYPlNf"
      },
      "source": [
        "### 2.1 Under-Sampling \n",
        "Under-sampling code is quoted from Bhavesh Bhatt Undersampling for Handling Imbalanced Datasets tutorial series source:https://www.youtube.com/watch?v=Ti8SbfFecuc&t=418s"
      ]
    },
    {
      "cell_type": "code",
      "metadata": {
        "id": "Xh11r-OOPlNf"
      },
      "source": [
        "# To avoid the impact of unbalanced target feature, under-sampling technieque is applied as part of re-sampling.\n"
      ],
      "execution_count": null,
      "outputs": []
    },
    {
      "cell_type": "code",
      "metadata": {
        "id": "l_3kGCy1PlNf",
        "outputId": "b0e194e6-0f85-4752-a9b5-61583e54668a"
      },
      "source": [
        "## number of minority value ('1') in our target \n",
        "minority_class_len=len(df[df['Response'] == 1])\n",
        "print(minority_class_len)"
      ],
      "execution_count": null,
      "outputs": [
        {
          "output_type": "stream",
          "text": [
            "46710\n"
          ],
          "name": "stdout"
        }
      ]
    },
    {
      "cell_type": "code",
      "metadata": {
        "id": "M-sEb3UrPlNg",
        "outputId": "3a79c789-1716-4c78-8a9d-b541d29ac8ee"
      },
      "source": [
        "## number of majority value ('0') in our target\n",
        "majority_class_indices=df[df['Response']== 0].index\n",
        "print(majority_class_indices)"
      ],
      "execution_count": null,
      "outputs": [
        {
          "output_type": "stream",
          "text": [
            "Int64Index([     1,      3,      4,      5,      6,      8,      9,     11,\n",
            "                12,     13,\n",
            "            ...\n",
            "            381099, 381100, 381101, 381102, 381103, 381104, 381105, 381106,\n",
            "            381107, 381108],\n",
            "           dtype='int64', length=334399)\n"
          ],
          "name": "stdout"
        }
      ]
    },
    {
      "cell_type": "code",
      "metadata": {
        "id": "zizkCcQiPlNg",
        "outputId": "b25a2c97-f22a-4c66-ad21-3866fc0efb18"
      },
      "source": [
        "# Making a randomized sampling from our majority target value '0' that will be equal to the number of '1' value in Target column\n",
        "random_majority_indices= np.random.choice (majority_class_indices,\n",
        "                                          minority_class_len,\n",
        "                                          replace=False)\n",
        "print(len(random_majority_indices))"
      ],
      "execution_count": null,
      "outputs": [
        {
          "output_type": "stream",
          "text": [
            "46710\n"
          ],
          "name": "stdout"
        }
      ]
    },
    {
      "cell_type": "code",
      "metadata": {
        "id": "YIFTt3OEPlNh",
        "outputId": "785709be-487f-4eb7-ae9a-f1ff01f2cbcf"
      },
      "source": [
        "minority_class_indices=df[df['Response']==1].index\n",
        "print(minority_class_indices)"
      ],
      "execution_count": null,
      "outputs": [
        {
          "output_type": "stream",
          "text": [
            "Int64Index([     0,      2,      7,     10,     15,     19,     26,     29,\n",
            "                57,     69,\n",
            "            ...\n",
            "            380987, 380997, 381026, 381029, 381031, 381057, 381061, 381073,\n",
            "            381075, 381097],\n",
            "           dtype='int64', length=46710)\n"
          ],
          "name": "stdout"
        }
      ]
    },
    {
      "cell_type": "code",
      "metadata": {
        "id": "yuwobmtUPlNh"
      },
      "source": [
        "## Concatenating two list again to convert them into dataframe.\n",
        "under_sample_indices= np.concatenate([minority_class_indices,random_majority_indices])"
      ],
      "execution_count": null,
      "outputs": []
    },
    {
      "cell_type": "code",
      "metadata": {
        "id": "tXT_a4GzPlNh"
      },
      "source": [
        "under_sample=df.loc[under_sample_indices]"
      ],
      "execution_count": null,
      "outputs": []
    },
    {
      "cell_type": "code",
      "metadata": {
        "id": "aj3PfajbPlNi"
      },
      "source": [
        "# New df dataframe with balanced target values\n",
        "df=under_sample"
      ],
      "execution_count": null,
      "outputs": []
    },
    {
      "cell_type": "code",
      "metadata": {
        "id": "4jp6MXBSPlNi",
        "outputId": "d3b4a8a2-df65-481d-ac1f-69c55bade194"
      },
      "source": [
        "df.head()"
      ],
      "execution_count": null,
      "outputs": [
        {
          "output_type": "execute_result",
          "data": {
            "text/html": [
              "<div>\n",
              "<style scoped>\n",
              "    .dataframe tbody tr th:only-of-type {\n",
              "        vertical-align: middle;\n",
              "    }\n",
              "\n",
              "    .dataframe tbody tr th {\n",
              "        vertical-align: top;\n",
              "    }\n",
              "\n",
              "    .dataframe thead th {\n",
              "        text-align: right;\n",
              "    }\n",
              "</style>\n",
              "<table border=\"1\" class=\"dataframe\">\n",
              "  <thead>\n",
              "    <tr style=\"text-align: right;\">\n",
              "      <th></th>\n",
              "      <th>Gender</th>\n",
              "      <th>Age</th>\n",
              "      <th>Driving_License</th>\n",
              "      <th>Previously_Insured</th>\n",
              "      <th>Vehicle_Age</th>\n",
              "      <th>Vehicle_Damage</th>\n",
              "      <th>Annual_Premium</th>\n",
              "      <th>Policy_Sales_Channel</th>\n",
              "      <th>Vintage</th>\n",
              "      <th>Response</th>\n",
              "    </tr>\n",
              "  </thead>\n",
              "  <tbody>\n",
              "    <tr>\n",
              "      <th>0</th>\n",
              "      <td>Male</td>\n",
              "      <td>44</td>\n",
              "      <td>1</td>\n",
              "      <td>0</td>\n",
              "      <td>&gt; 2 Years</td>\n",
              "      <td>Yes</td>\n",
              "      <td>40454.0</td>\n",
              "      <td>26.0</td>\n",
              "      <td>217</td>\n",
              "      <td>1</td>\n",
              "    </tr>\n",
              "    <tr>\n",
              "      <th>2</th>\n",
              "      <td>Male</td>\n",
              "      <td>47</td>\n",
              "      <td>1</td>\n",
              "      <td>0</td>\n",
              "      <td>&gt; 2 Years</td>\n",
              "      <td>Yes</td>\n",
              "      <td>38294.0</td>\n",
              "      <td>26.0</td>\n",
              "      <td>27</td>\n",
              "      <td>1</td>\n",
              "    </tr>\n",
              "    <tr>\n",
              "      <th>7</th>\n",
              "      <td>Female</td>\n",
              "      <td>56</td>\n",
              "      <td>1</td>\n",
              "      <td>0</td>\n",
              "      <td>1-2 Year</td>\n",
              "      <td>Yes</td>\n",
              "      <td>32031.0</td>\n",
              "      <td>26.0</td>\n",
              "      <td>72</td>\n",
              "      <td>1</td>\n",
              "    </tr>\n",
              "    <tr>\n",
              "      <th>10</th>\n",
              "      <td>Female</td>\n",
              "      <td>47</td>\n",
              "      <td>1</td>\n",
              "      <td>0</td>\n",
              "      <td>1-2 Year</td>\n",
              "      <td>Yes</td>\n",
              "      <td>47576.0</td>\n",
              "      <td>124.0</td>\n",
              "      <td>46</td>\n",
              "      <td>1</td>\n",
              "    </tr>\n",
              "    <tr>\n",
              "      <th>15</th>\n",
              "      <td>Male</td>\n",
              "      <td>37</td>\n",
              "      <td>1</td>\n",
              "      <td>0</td>\n",
              "      <td>1-2 Year</td>\n",
              "      <td>Yes</td>\n",
              "      <td>2630.0</td>\n",
              "      <td>156.0</td>\n",
              "      <td>147</td>\n",
              "      <td>1</td>\n",
              "    </tr>\n",
              "  </tbody>\n",
              "</table>\n",
              "</div>"
            ],
            "text/plain": [
              "    Gender  Age  Driving_License  Previously_Insured Vehicle_Age  \\\n",
              "0     Male   44                1                   0   > 2 Years   \n",
              "2     Male   47                1                   0   > 2 Years   \n",
              "7   Female   56                1                   0    1-2 Year   \n",
              "10  Female   47                1                   0    1-2 Year   \n",
              "15    Male   37                1                   0    1-2 Year   \n",
              "\n",
              "   Vehicle_Damage  Annual_Premium  Policy_Sales_Channel  Vintage  Response  \n",
              "0             Yes         40454.0                  26.0      217         1  \n",
              "2             Yes         38294.0                  26.0       27         1  \n",
              "7             Yes         32031.0                  26.0       72         1  \n",
              "10            Yes         47576.0                 124.0       46         1  \n",
              "15            Yes          2630.0                 156.0      147         1  "
            ]
          },
          "metadata": {
            "tags": []
          },
          "execution_count": 863
        }
      ]
    },
    {
      "cell_type": "code",
      "metadata": {
        "id": "zkpT9_H5PlNj",
        "outputId": "be230f47-1c11-47f8-db7a-d18756bf9a0a"
      },
      "source": [
        "under_sample['Response'].value_counts()"
      ],
      "execution_count": null,
      "outputs": [
        {
          "output_type": "execute_result",
          "data": {
            "text/plain": [
              "0    46710\n",
              "1    46710\n",
              "Name: Response, dtype: int64"
            ]
          },
          "metadata": {
            "tags": []
          },
          "execution_count": 864
        }
      ]
    },
    {
      "cell_type": "code",
      "metadata": {
        "id": "9Wvl2Rm-PlNj",
        "outputId": "fc86e323-71ff-4586-e88d-7d869115a5a3"
      },
      "source": [
        "df.info()"
      ],
      "execution_count": null,
      "outputs": [
        {
          "output_type": "stream",
          "text": [
            "<class 'pandas.core.frame.DataFrame'>\n",
            "Int64Index: 93420 entries, 0 to 201318\n",
            "Data columns (total 10 columns):\n",
            " #   Column                Non-Null Count  Dtype  \n",
            "---  ------                --------------  -----  \n",
            " 0   Gender                93420 non-null  object \n",
            " 1   Age                   93420 non-null  int64  \n",
            " 2   Driving_License       93420 non-null  int64  \n",
            " 3   Previously_Insured    93420 non-null  int64  \n",
            " 4   Vehicle_Age           93420 non-null  object \n",
            " 5   Vehicle_Damage        93420 non-null  object \n",
            " 6   Annual_Premium        93420 non-null  float64\n",
            " 7   Policy_Sales_Channel  93420 non-null  float64\n",
            " 8   Vintage               93420 non-null  int64  \n",
            " 9   Response              93420 non-null  int64  \n",
            "dtypes: float64(2), int64(5), object(3)\n",
            "memory usage: 7.8+ MB\n"
          ],
          "name": "stdout"
        }
      ]
    },
    {
      "cell_type": "markdown",
      "metadata": {
        "id": "haVnIhn2PlNj"
      },
      "source": [
        "### 2.2 Data Standardization"
      ]
    },
    {
      "cell_type": "code",
      "metadata": {
        "id": "ZPtnxjyyPlNk"
      },
      "source": [
        "## I seperated my target 'Response' column in y dataframe and dropping it in our main dataframe called 'df'\n",
        "\n",
        "y=pd.DataFrame(df['Response'])\n",
        "df=df.drop(columns=['Response'])"
      ],
      "execution_count": null,
      "outputs": []
    },
    {
      "cell_type": "code",
      "metadata": {
        "id": "33dPIDqNPlNk",
        "outputId": "7078146b-02ff-41d7-e744-5f45bfd6e557"
      },
      "source": [
        "# one-hot encoding (tutorial 2) \n",
        "print(\"Filtering Dummy Features\")\n",
        "dummyvariables=['Driving_License', 'Previously_Insured', 'Gender', \n",
        "              'Vehicle_Age','Vehicle_Damage']\n",
        "# dropping dummy variable to exclude from standardize. \n",
        "dfdummies=pd.get_dummies(df.filter(dummyvariables))"
      ],
      "execution_count": null,
      "outputs": [
        {
          "output_type": "stream",
          "text": [
            "Filtering Dummy Features\n"
          ],
          "name": "stdout"
        }
      ]
    },
    {
      "cell_type": "code",
      "metadata": {
        "id": "m3jZo9GnPlNl"
      },
      "source": [
        "## Standard scaling the numerical features to have a mean of 0 and variance of 1 after dropping dummy features\n",
        "df=df.drop(columns=dummyvariables) \n",
        "df=pd.DataFrame(StandardScaler().fit_transform(df), index=df.index, columns=df.columns) # standardizing"
      ],
      "execution_count": null,
      "outputs": []
    },
    {
      "cell_type": "code",
      "metadata": {
        "id": "GMKh-QCRPlNl",
        "outputId": "6d9e09f7-51f6-4de0-96d3-d6a6bf85b8f7"
      },
      "source": [
        "# To check that outliers are removed after winsorizing\n",
        "print(df[\"Annual_Premium\"].min())\n",
        "print(df[\"Annual_Premium\"].max())"
      ],
      "execution_count": null,
      "outputs": [
        {
          "output_type": "stream",
          "text": [
            "-1.5942889753481007\n",
            "28.591541937777855\n"
          ],
          "name": "stdout"
        }
      ]
    },
    {
      "cell_type": "code",
      "metadata": {
        "id": "tgcxesiFPlNl"
      },
      "source": [
        "import scipy.stats as sp\n",
        "for col in df.columns: \n",
        "     sp.mstats.winsorize(df[col], limits=0.01, inplace=True)\n",
        "df=pd.concat([ df.reset_index(), dfdummies.reset_index()], axis=1)                     \n",
        "df=df.drop(columns=['index']) \n"
      ],
      "execution_count": null,
      "outputs": []
    },
    {
      "cell_type": "code",
      "metadata": {
        "id": "lLi9HN9aPlNm",
        "outputId": "f41d809b-df63-4871-fe4b-e39aea394b23"
      },
      "source": [
        "# Outliers are removed\n",
        "print(df[\"Annual_Premium\"].min())\n",
        "print(df[\"Annual_Premium\"].max())"
      ],
      "execution_count": null,
      "outputs": [
        {
          "output_type": "stream",
          "text": [
            "-1.5942889753481007\n",
            "2.4274934915354596\n"
          ],
          "name": "stdout"
        }
      ]
    },
    {
      "cell_type": "code",
      "metadata": {
        "id": "ecOJadYqPlNm",
        "outputId": "33e9b05a-e0ee-4c39-86b3-ff2d679e5a54"
      },
      "source": [
        "print(df)"
      ],
      "execution_count": null,
      "outputs": [
        {
          "output_type": "stream",
          "text": [
            "            Age  Annual_Premium  Policy_Sales_Channel   Vintage  \\\n",
            "0      0.228407        0.529757             -1.386256  0.749065   \n",
            "1      0.437712        0.408460             -1.386256 -1.522738   \n",
            "2      1.065625        0.056754             -1.386256 -0.984680   \n",
            "3      0.437712        0.929700              0.367343 -1.295558   \n",
            "4     -0.259970       -1.594289              0.939947 -0.087915   \n",
            "...         ...             ...                   ...       ...   \n",
            "93415  0.507480        0.532508              0.367343 -1.068378   \n",
            "93416  0.716784        0.545480              0.904160  1.382778   \n",
            "93417  1.344697        0.352641             -1.386256  1.550174   \n",
            "93418 -1.306491       -0.396312              0.868372  0.880590   \n",
            "93419  0.926089        0.531161              0.832584  1.526261   \n",
            "\n",
            "       Driving_License  Previously_Insured  Gender_Female  Gender_Male  \\\n",
            "0                    1                   0              0            1   \n",
            "1                    1                   0              0            1   \n",
            "2                    1                   0              1            0   \n",
            "3                    1                   0              1            0   \n",
            "4                    1                   0              0            1   \n",
            "...                ...                 ...            ...          ...   \n",
            "93415                1                   0              0            1   \n",
            "93416                1                   0              0            1   \n",
            "93417                1                   0              0            1   \n",
            "93418                1                   1              1            0   \n",
            "93419                1                   0              0            1   \n",
            "\n",
            "       Vehicle_Age_1-2 Year  Vehicle_Age_< 1 Year  Vehicle_Age_> 2 Years  \\\n",
            "0                         0                     0                      1   \n",
            "1                         0                     0                      1   \n",
            "2                         1                     0                      0   \n",
            "3                         1                     0                      0   \n",
            "4                         1                     0                      0   \n",
            "...                     ...                   ...                    ...   \n",
            "93415                     1                     0                      0   \n",
            "93416                     0                     0                      1   \n",
            "93417                     1                     0                      0   \n",
            "93418                     0                     1                      0   \n",
            "93419                     1                     0                      0   \n",
            "\n",
            "       Vehicle_Damage_No  Vehicle_Damage_Yes  \n",
            "0                      0                   1  \n",
            "1                      0                   1  \n",
            "2                      0                   1  \n",
            "3                      0                   1  \n",
            "4                      0                   1  \n",
            "...                  ...                 ...  \n",
            "93415                  0                   1  \n",
            "93416                  0                   1  \n",
            "93417                  0                   1  \n",
            "93418                  1                   0  \n",
            "93419                  0                   1  \n",
            "\n",
            "[93420 rows x 13 columns]\n"
          ],
          "name": "stdout"
        }
      ]
    },
    {
      "cell_type": "markdown",
      "metadata": {
        "id": "i0pYfNwtPlNn"
      },
      "source": [
        "## 3. Test and Train Data"
      ]
    },
    {
      "cell_type": "code",
      "metadata": {
        "id": "Zdn2g6AWHUip"
      },
      "source": [
        "X=df\n",
        "y=y"
      ],
      "execution_count": null,
      "outputs": []
    },
    {
      "cell_type": "code",
      "metadata": {
        "colab": {
          "base_uri": "https://localhost:8080/"
        },
        "id": "30uPNztNEr4C",
        "outputId": "0565b843-a7a3-4e02-9f48-7e49df1c79da"
      },
      "source": [
        "X"
      ],
      "execution_count": null,
      "outputs": [
        {
          "output_type": "execute_result",
          "data": {
            "text/html": [
              "<div>\n",
              "<style scoped>\n",
              "    .dataframe tbody tr th:only-of-type {\n",
              "        vertical-align: middle;\n",
              "    }\n",
              "\n",
              "    .dataframe tbody tr th {\n",
              "        vertical-align: top;\n",
              "    }\n",
              "\n",
              "    .dataframe thead th {\n",
              "        text-align: right;\n",
              "    }\n",
              "</style>\n",
              "<table border=\"1\" class=\"dataframe\">\n",
              "  <thead>\n",
              "    <tr style=\"text-align: right;\">\n",
              "      <th></th>\n",
              "      <th>Age</th>\n",
              "      <th>Annual_Premium</th>\n",
              "      <th>Policy_Sales_Channel</th>\n",
              "      <th>Vintage</th>\n",
              "      <th>Driving_License</th>\n",
              "      <th>Previously_Insured</th>\n",
              "      <th>Gender_Female</th>\n",
              "      <th>Gender_Male</th>\n",
              "      <th>Vehicle_Age_1-2 Year</th>\n",
              "      <th>Vehicle_Age_&lt; 1 Year</th>\n",
              "      <th>Vehicle_Age_&gt; 2 Years</th>\n",
              "      <th>Vehicle_Damage_No</th>\n",
              "      <th>Vehicle_Damage_Yes</th>\n",
              "    </tr>\n",
              "  </thead>\n",
              "  <tbody>\n",
              "    <tr>\n",
              "      <th>0</th>\n",
              "      <td>0.228407</td>\n",
              "      <td>0.529757</td>\n",
              "      <td>-1.386256</td>\n",
              "      <td>0.749065</td>\n",
              "      <td>1</td>\n",
              "      <td>0</td>\n",
              "      <td>0</td>\n",
              "      <td>1</td>\n",
              "      <td>0</td>\n",
              "      <td>0</td>\n",
              "      <td>1</td>\n",
              "      <td>0</td>\n",
              "      <td>1</td>\n",
              "    </tr>\n",
              "    <tr>\n",
              "      <th>1</th>\n",
              "      <td>0.437712</td>\n",
              "      <td>0.408460</td>\n",
              "      <td>-1.386256</td>\n",
              "      <td>-1.522738</td>\n",
              "      <td>1</td>\n",
              "      <td>0</td>\n",
              "      <td>0</td>\n",
              "      <td>1</td>\n",
              "      <td>0</td>\n",
              "      <td>0</td>\n",
              "      <td>1</td>\n",
              "      <td>0</td>\n",
              "      <td>1</td>\n",
              "    </tr>\n",
              "    <tr>\n",
              "      <th>2</th>\n",
              "      <td>1.065625</td>\n",
              "      <td>0.056754</td>\n",
              "      <td>-1.386256</td>\n",
              "      <td>-0.984680</td>\n",
              "      <td>1</td>\n",
              "      <td>0</td>\n",
              "      <td>1</td>\n",
              "      <td>0</td>\n",
              "      <td>1</td>\n",
              "      <td>0</td>\n",
              "      <td>0</td>\n",
              "      <td>0</td>\n",
              "      <td>1</td>\n",
              "    </tr>\n",
              "    <tr>\n",
              "      <th>3</th>\n",
              "      <td>0.437712</td>\n",
              "      <td>0.929700</td>\n",
              "      <td>0.367343</td>\n",
              "      <td>-1.295558</td>\n",
              "      <td>1</td>\n",
              "      <td>0</td>\n",
              "      <td>1</td>\n",
              "      <td>0</td>\n",
              "      <td>1</td>\n",
              "      <td>0</td>\n",
              "      <td>0</td>\n",
              "      <td>0</td>\n",
              "      <td>1</td>\n",
              "    </tr>\n",
              "    <tr>\n",
              "      <th>4</th>\n",
              "      <td>-0.259970</td>\n",
              "      <td>-1.594289</td>\n",
              "      <td>0.939947</td>\n",
              "      <td>-0.087915</td>\n",
              "      <td>1</td>\n",
              "      <td>0</td>\n",
              "      <td>0</td>\n",
              "      <td>1</td>\n",
              "      <td>1</td>\n",
              "      <td>0</td>\n",
              "      <td>0</td>\n",
              "      <td>0</td>\n",
              "      <td>1</td>\n",
              "    </tr>\n",
              "    <tr>\n",
              "      <th>...</th>\n",
              "      <td>...</td>\n",
              "      <td>...</td>\n",
              "      <td>...</td>\n",
              "      <td>...</td>\n",
              "      <td>...</td>\n",
              "      <td>...</td>\n",
              "      <td>...</td>\n",
              "      <td>...</td>\n",
              "      <td>...</td>\n",
              "      <td>...</td>\n",
              "      <td>...</td>\n",
              "      <td>...</td>\n",
              "      <td>...</td>\n",
              "    </tr>\n",
              "    <tr>\n",
              "      <th>93415</th>\n",
              "      <td>0.507480</td>\n",
              "      <td>0.532508</td>\n",
              "      <td>0.367343</td>\n",
              "      <td>-1.068378</td>\n",
              "      <td>1</td>\n",
              "      <td>0</td>\n",
              "      <td>0</td>\n",
              "      <td>1</td>\n",
              "      <td>1</td>\n",
              "      <td>0</td>\n",
              "      <td>0</td>\n",
              "      <td>0</td>\n",
              "      <td>1</td>\n",
              "    </tr>\n",
              "    <tr>\n",
              "      <th>93416</th>\n",
              "      <td>0.716784</td>\n",
              "      <td>0.545480</td>\n",
              "      <td>0.904160</td>\n",
              "      <td>1.382778</td>\n",
              "      <td>1</td>\n",
              "      <td>0</td>\n",
              "      <td>0</td>\n",
              "      <td>1</td>\n",
              "      <td>0</td>\n",
              "      <td>0</td>\n",
              "      <td>1</td>\n",
              "      <td>0</td>\n",
              "      <td>1</td>\n",
              "    </tr>\n",
              "    <tr>\n",
              "      <th>93417</th>\n",
              "      <td>1.344697</td>\n",
              "      <td>0.352641</td>\n",
              "      <td>-1.386256</td>\n",
              "      <td>1.550174</td>\n",
              "      <td>1</td>\n",
              "      <td>0</td>\n",
              "      <td>0</td>\n",
              "      <td>1</td>\n",
              "      <td>1</td>\n",
              "      <td>0</td>\n",
              "      <td>0</td>\n",
              "      <td>0</td>\n",
              "      <td>1</td>\n",
              "    </tr>\n",
              "    <tr>\n",
              "      <th>93418</th>\n",
              "      <td>-1.306491</td>\n",
              "      <td>-0.396312</td>\n",
              "      <td>0.868372</td>\n",
              "      <td>0.880590</td>\n",
              "      <td>1</td>\n",
              "      <td>1</td>\n",
              "      <td>1</td>\n",
              "      <td>0</td>\n",
              "      <td>0</td>\n",
              "      <td>1</td>\n",
              "      <td>0</td>\n",
              "      <td>1</td>\n",
              "      <td>0</td>\n",
              "    </tr>\n",
              "    <tr>\n",
              "      <th>93419</th>\n",
              "      <td>0.926089</td>\n",
              "      <td>0.531161</td>\n",
              "      <td>0.832584</td>\n",
              "      <td>1.526261</td>\n",
              "      <td>1</td>\n",
              "      <td>0</td>\n",
              "      <td>0</td>\n",
              "      <td>1</td>\n",
              "      <td>1</td>\n",
              "      <td>0</td>\n",
              "      <td>0</td>\n",
              "      <td>0</td>\n",
              "      <td>1</td>\n",
              "    </tr>\n",
              "  </tbody>\n",
              "</table>\n",
              "<p>93420 rows × 13 columns</p>\n",
              "</div>"
            ],
            "text/plain": [
              "            Age  Annual_Premium  Policy_Sales_Channel   Vintage  \\\n",
              "0      0.228407        0.529757             -1.386256  0.749065   \n",
              "1      0.437712        0.408460             -1.386256 -1.522738   \n",
              "2      1.065625        0.056754             -1.386256 -0.984680   \n",
              "3      0.437712        0.929700              0.367343 -1.295558   \n",
              "4     -0.259970       -1.594289              0.939947 -0.087915   \n",
              "...         ...             ...                   ...       ...   \n",
              "93415  0.507480        0.532508              0.367343 -1.068378   \n",
              "93416  0.716784        0.545480              0.904160  1.382778   \n",
              "93417  1.344697        0.352641             -1.386256  1.550174   \n",
              "93418 -1.306491       -0.396312              0.868372  0.880590   \n",
              "93419  0.926089        0.531161              0.832584  1.526261   \n",
              "\n",
              "       Driving_License  Previously_Insured  Gender_Female  Gender_Male  \\\n",
              "0                    1                   0              0            1   \n",
              "1                    1                   0              0            1   \n",
              "2                    1                   0              1            0   \n",
              "3                    1                   0              1            0   \n",
              "4                    1                   0              0            1   \n",
              "...                ...                 ...            ...          ...   \n",
              "93415                1                   0              0            1   \n",
              "93416                1                   0              0            1   \n",
              "93417                1                   0              0            1   \n",
              "93418                1                   1              1            0   \n",
              "93419                1                   0              0            1   \n",
              "\n",
              "       Vehicle_Age_1-2 Year  Vehicle_Age_< 1 Year  Vehicle_Age_> 2 Years  \\\n",
              "0                         0                     0                      1   \n",
              "1                         0                     0                      1   \n",
              "2                         1                     0                      0   \n",
              "3                         1                     0                      0   \n",
              "4                         1                     0                      0   \n",
              "...                     ...                   ...                    ...   \n",
              "93415                     1                     0                      0   \n",
              "93416                     0                     0                      1   \n",
              "93417                     1                     0                      0   \n",
              "93418                     0                     1                      0   \n",
              "93419                     1                     0                      0   \n",
              "\n",
              "       Vehicle_Damage_No  Vehicle_Damage_Yes  \n",
              "0                      0                   1  \n",
              "1                      0                   1  \n",
              "2                      0                   1  \n",
              "3                      0                   1  \n",
              "4                      0                   1  \n",
              "...                  ...                 ...  \n",
              "93415                  0                   1  \n",
              "93416                  0                   1  \n",
              "93417                  0                   1  \n",
              "93418                  1                   0  \n",
              "93419                  0                   1  \n",
              "\n",
              "[93420 rows x 13 columns]"
            ]
          },
          "metadata": {
            "tags": []
          },
          "execution_count": 874
        }
      ]
    },
    {
      "cell_type": "code",
      "metadata": {
        "id": "REs_s7JuPlNo",
        "outputId": "03086dda-cb94-4859-a1d0-61fd80633be3"
      },
      "source": [
        "y"
      ],
      "execution_count": null,
      "outputs": [
        {
          "output_type": "execute_result",
          "data": {
            "text/html": [
              "<div>\n",
              "<style scoped>\n",
              "    .dataframe tbody tr th:only-of-type {\n",
              "        vertical-align: middle;\n",
              "    }\n",
              "\n",
              "    .dataframe tbody tr th {\n",
              "        vertical-align: top;\n",
              "    }\n",
              "\n",
              "    .dataframe thead th {\n",
              "        text-align: right;\n",
              "    }\n",
              "</style>\n",
              "<table border=\"1\" class=\"dataframe\">\n",
              "  <thead>\n",
              "    <tr style=\"text-align: right;\">\n",
              "      <th></th>\n",
              "      <th>Response</th>\n",
              "    </tr>\n",
              "  </thead>\n",
              "  <tbody>\n",
              "    <tr>\n",
              "      <th>0</th>\n",
              "      <td>1</td>\n",
              "    </tr>\n",
              "    <tr>\n",
              "      <th>2</th>\n",
              "      <td>1</td>\n",
              "    </tr>\n",
              "    <tr>\n",
              "      <th>7</th>\n",
              "      <td>1</td>\n",
              "    </tr>\n",
              "    <tr>\n",
              "      <th>10</th>\n",
              "      <td>1</td>\n",
              "    </tr>\n",
              "    <tr>\n",
              "      <th>15</th>\n",
              "      <td>1</td>\n",
              "    </tr>\n",
              "    <tr>\n",
              "      <th>...</th>\n",
              "      <td>...</td>\n",
              "    </tr>\n",
              "    <tr>\n",
              "      <th>360878</th>\n",
              "      <td>0</td>\n",
              "    </tr>\n",
              "    <tr>\n",
              "      <th>102809</th>\n",
              "      <td>0</td>\n",
              "    </tr>\n",
              "    <tr>\n",
              "      <th>205738</th>\n",
              "      <td>0</td>\n",
              "    </tr>\n",
              "    <tr>\n",
              "      <th>375429</th>\n",
              "      <td>0</td>\n",
              "    </tr>\n",
              "    <tr>\n",
              "      <th>201318</th>\n",
              "      <td>0</td>\n",
              "    </tr>\n",
              "  </tbody>\n",
              "</table>\n",
              "<p>93420 rows × 1 columns</p>\n",
              "</div>"
            ],
            "text/plain": [
              "        Response\n",
              "0              1\n",
              "2              1\n",
              "7              1\n",
              "10             1\n",
              "15             1\n",
              "...          ...\n",
              "360878         0\n",
              "102809         0\n",
              "205738         0\n",
              "375429         0\n",
              "201318         0\n",
              "\n",
              "[93420 rows x 1 columns]"
            ]
          },
          "metadata": {
            "tags": []
          },
          "execution_count": 875
        }
      ]
    },
    {
      "cell_type": "code",
      "metadata": {
        "id": "hH2FaPXR-1Iy"
      },
      "source": [
        "##I have splitted the data into two parts for training and testing. Testing is %20 of the training dataset.\n",
        "X_train, X_test, y_train, y_test = train_test_split(X, y, test_size = 0.20, stratify=y,random_state = 1)"
      ],
      "execution_count": null,
      "outputs": []
    },
    {
      "cell_type": "code",
      "metadata": {
        "colab": {
          "base_uri": "https://localhost:8080/"
        },
        "id": "lfyv1PbeIan5",
        "outputId": "cdeea6c3-b82e-41fe-cb29-f034c4a20c44"
      },
      "source": [
        "X_train"
      ],
      "execution_count": null,
      "outputs": [
        {
          "output_type": "execute_result",
          "data": {
            "text/html": [
              "<div>\n",
              "<style scoped>\n",
              "    .dataframe tbody tr th:only-of-type {\n",
              "        vertical-align: middle;\n",
              "    }\n",
              "\n",
              "    .dataframe tbody tr th {\n",
              "        vertical-align: top;\n",
              "    }\n",
              "\n",
              "    .dataframe thead th {\n",
              "        text-align: right;\n",
              "    }\n",
              "</style>\n",
              "<table border=\"1\" class=\"dataframe\">\n",
              "  <thead>\n",
              "    <tr style=\"text-align: right;\">\n",
              "      <th></th>\n",
              "      <th>Age</th>\n",
              "      <th>Annual_Premium</th>\n",
              "      <th>Policy_Sales_Channel</th>\n",
              "      <th>Vintage</th>\n",
              "      <th>Driving_License</th>\n",
              "      <th>Previously_Insured</th>\n",
              "      <th>Gender_Female</th>\n",
              "      <th>Gender_Male</th>\n",
              "      <th>Vehicle_Age_1-2 Year</th>\n",
              "      <th>Vehicle_Age_&lt; 1 Year</th>\n",
              "      <th>Vehicle_Age_&gt; 2 Years</th>\n",
              "      <th>Vehicle_Damage_No</th>\n",
              "      <th>Vehicle_Damage_Yes</th>\n",
              "    </tr>\n",
              "  </thead>\n",
              "  <tbody>\n",
              "    <tr>\n",
              "      <th>45320</th>\n",
              "      <td>-0.120433</td>\n",
              "      <td>0.056530</td>\n",
              "      <td>0.367343</td>\n",
              "      <td>-0.936852</td>\n",
              "      <td>1</td>\n",
              "      <td>0</td>\n",
              "      <td>0</td>\n",
              "      <td>1</td>\n",
              "      <td>0</td>\n",
              "      <td>0</td>\n",
              "      <td>1</td>\n",
              "      <td>0</td>\n",
              "      <td>1</td>\n",
              "    </tr>\n",
              "    <tr>\n",
              "      <th>24430</th>\n",
              "      <td>0.158639</td>\n",
              "      <td>0.311029</td>\n",
              "      <td>-1.386256</td>\n",
              "      <td>-1.044464</td>\n",
              "      <td>1</td>\n",
              "      <td>0</td>\n",
              "      <td>1</td>\n",
              "      <td>0</td>\n",
              "      <td>1</td>\n",
              "      <td>0</td>\n",
              "      <td>0</td>\n",
              "      <td>0</td>\n",
              "      <td>1</td>\n",
              "    </tr>\n",
              "    <tr>\n",
              "      <th>70405</th>\n",
              "      <td>-1.376259</td>\n",
              "      <td>0.456866</td>\n",
              "      <td>0.868372</td>\n",
              "      <td>1.418649</td>\n",
              "      <td>1</td>\n",
              "      <td>1</td>\n",
              "      <td>1</td>\n",
              "      <td>0</td>\n",
              "      <td>0</td>\n",
              "      <td>1</td>\n",
              "      <td>0</td>\n",
              "      <td>0</td>\n",
              "      <td>1</td>\n",
              "    </tr>\n",
              "    <tr>\n",
              "      <th>13982</th>\n",
              "      <td>-0.748346</td>\n",
              "      <td>0.491346</td>\n",
              "      <td>0.367343</td>\n",
              "      <td>-0.075958</td>\n",
              "      <td>1</td>\n",
              "      <td>0</td>\n",
              "      <td>0</td>\n",
              "      <td>1</td>\n",
              "      <td>1</td>\n",
              "      <td>0</td>\n",
              "      <td>0</td>\n",
              "      <td>0</td>\n",
              "      <td>1</td>\n",
              "    </tr>\n",
              "    <tr>\n",
              "      <th>9756</th>\n",
              "      <td>0.507480</td>\n",
              "      <td>-0.213244</td>\n",
              "      <td>-1.386256</td>\n",
              "      <td>-1.546652</td>\n",
              "      <td>1</td>\n",
              "      <td>0</td>\n",
              "      <td>0</td>\n",
              "      <td>1</td>\n",
              "      <td>1</td>\n",
              "      <td>0</td>\n",
              "      <td>0</td>\n",
              "      <td>0</td>\n",
              "      <td>1</td>\n",
              "    </tr>\n",
              "    <tr>\n",
              "      <th>...</th>\n",
              "      <td>...</td>\n",
              "      <td>...</td>\n",
              "      <td>...</td>\n",
              "      <td>...</td>\n",
              "      <td>...</td>\n",
              "      <td>...</td>\n",
              "      <td>...</td>\n",
              "      <td>...</td>\n",
              "      <td>...</td>\n",
              "      <td>...</td>\n",
              "      <td>...</td>\n",
              "      <td>...</td>\n",
              "      <td>...</td>\n",
              "    </tr>\n",
              "    <tr>\n",
              "      <th>82676</th>\n",
              "      <td>2.460987</td>\n",
              "      <td>0.080677</td>\n",
              "      <td>0.367343</td>\n",
              "      <td>-1.343385</td>\n",
              "      <td>1</td>\n",
              "      <td>1</td>\n",
              "      <td>0</td>\n",
              "      <td>1</td>\n",
              "      <td>1</td>\n",
              "      <td>0</td>\n",
              "      <td>0</td>\n",
              "      <td>1</td>\n",
              "      <td>0</td>\n",
              "    </tr>\n",
              "    <tr>\n",
              "      <th>42238</th>\n",
              "      <td>0.158639</td>\n",
              "      <td>0.904654</td>\n",
              "      <td>0.367343</td>\n",
              "      <td>1.550174</td>\n",
              "      <td>1</td>\n",
              "      <td>0</td>\n",
              "      <td>0</td>\n",
              "      <td>1</td>\n",
              "      <td>1</td>\n",
              "      <td>0</td>\n",
              "      <td>0</td>\n",
              "      <td>0</td>\n",
              "      <td>1</td>\n",
              "    </tr>\n",
              "    <tr>\n",
              "      <th>14918</th>\n",
              "      <td>0.158639</td>\n",
              "      <td>-1.594289</td>\n",
              "      <td>0.367343</td>\n",
              "      <td>1.047986</td>\n",
              "      <td>1</td>\n",
              "      <td>0</td>\n",
              "      <td>0</td>\n",
              "      <td>1</td>\n",
              "      <td>1</td>\n",
              "      <td>0</td>\n",
              "      <td>0</td>\n",
              "      <td>0</td>\n",
              "      <td>1</td>\n",
              "    </tr>\n",
              "    <tr>\n",
              "      <th>72479</th>\n",
              "      <td>-1.166955</td>\n",
              "      <td>0.621123</td>\n",
              "      <td>0.868372</td>\n",
              "      <td>-0.602060</td>\n",
              "      <td>1</td>\n",
              "      <td>1</td>\n",
              "      <td>1</td>\n",
              "      <td>0</td>\n",
              "      <td>0</td>\n",
              "      <td>1</td>\n",
              "      <td>0</td>\n",
              "      <td>1</td>\n",
              "      <td>0</td>\n",
              "    </tr>\n",
              "    <tr>\n",
              "      <th>38320</th>\n",
              "      <td>0.298175</td>\n",
              "      <td>0.372688</td>\n",
              "      <td>0.367343</td>\n",
              "      <td>1.526261</td>\n",
              "      <td>1</td>\n",
              "      <td>0</td>\n",
              "      <td>1</td>\n",
              "      <td>0</td>\n",
              "      <td>1</td>\n",
              "      <td>0</td>\n",
              "      <td>0</td>\n",
              "      <td>0</td>\n",
              "      <td>1</td>\n",
              "    </tr>\n",
              "  </tbody>\n",
              "</table>\n",
              "<p>74736 rows × 13 columns</p>\n",
              "</div>"
            ],
            "text/plain": [
              "            Age  Annual_Premium  Policy_Sales_Channel   Vintage  \\\n",
              "45320 -0.120433        0.056530              0.367343 -0.936852   \n",
              "24430  0.158639        0.311029             -1.386256 -1.044464   \n",
              "70405 -1.376259        0.456866              0.868372  1.418649   \n",
              "13982 -0.748346        0.491346              0.367343 -0.075958   \n",
              "9756   0.507480       -0.213244             -1.386256 -1.546652   \n",
              "...         ...             ...                   ...       ...   \n",
              "82676  2.460987        0.080677              0.367343 -1.343385   \n",
              "42238  0.158639        0.904654              0.367343  1.550174   \n",
              "14918  0.158639       -1.594289              0.367343  1.047986   \n",
              "72479 -1.166955        0.621123              0.868372 -0.602060   \n",
              "38320  0.298175        0.372688              0.367343  1.526261   \n",
              "\n",
              "       Driving_License  Previously_Insured  Gender_Female  Gender_Male  \\\n",
              "45320                1                   0              0            1   \n",
              "24430                1                   0              1            0   \n",
              "70405                1                   1              1            0   \n",
              "13982                1                   0              0            1   \n",
              "9756                 1                   0              0            1   \n",
              "...                ...                 ...            ...          ...   \n",
              "82676                1                   1              0            1   \n",
              "42238                1                   0              0            1   \n",
              "14918                1                   0              0            1   \n",
              "72479                1                   1              1            0   \n",
              "38320                1                   0              1            0   \n",
              "\n",
              "       Vehicle_Age_1-2 Year  Vehicle_Age_< 1 Year  Vehicle_Age_> 2 Years  \\\n",
              "45320                     0                     0                      1   \n",
              "24430                     1                     0                      0   \n",
              "70405                     0                     1                      0   \n",
              "13982                     1                     0                      0   \n",
              "9756                      1                     0                      0   \n",
              "...                     ...                   ...                    ...   \n",
              "82676                     1                     0                      0   \n",
              "42238                     1                     0                      0   \n",
              "14918                     1                     0                      0   \n",
              "72479                     0                     1                      0   \n",
              "38320                     1                     0                      0   \n",
              "\n",
              "       Vehicle_Damage_No  Vehicle_Damage_Yes  \n",
              "45320                  0                   1  \n",
              "24430                  0                   1  \n",
              "70405                  0                   1  \n",
              "13982                  0                   1  \n",
              "9756                   0                   1  \n",
              "...                  ...                 ...  \n",
              "82676                  1                   0  \n",
              "42238                  0                   1  \n",
              "14918                  0                   1  \n",
              "72479                  1                   0  \n",
              "38320                  0                   1  \n",
              "\n",
              "[74736 rows x 13 columns]"
            ]
          },
          "metadata": {
            "tags": []
          },
          "execution_count": 877
        }
      ]
    },
    {
      "cell_type": "code",
      "metadata": {
        "colab": {
          "base_uri": "https://localhost:8080/"
        },
        "id": "LmdVYv_M-mBS",
        "outputId": "39128a98-6819-494d-fedb-b245500632cb"
      },
      "source": [
        "X_test"
      ],
      "execution_count": null,
      "outputs": [
        {
          "output_type": "execute_result",
          "data": {
            "text/html": [
              "<div>\n",
              "<style scoped>\n",
              "    .dataframe tbody tr th:only-of-type {\n",
              "        vertical-align: middle;\n",
              "    }\n",
              "\n",
              "    .dataframe tbody tr th {\n",
              "        vertical-align: top;\n",
              "    }\n",
              "\n",
              "    .dataframe thead th {\n",
              "        text-align: right;\n",
              "    }\n",
              "</style>\n",
              "<table border=\"1\" class=\"dataframe\">\n",
              "  <thead>\n",
              "    <tr style=\"text-align: right;\">\n",
              "      <th></th>\n",
              "      <th>Age</th>\n",
              "      <th>Annual_Premium</th>\n",
              "      <th>Policy_Sales_Channel</th>\n",
              "      <th>Vintage</th>\n",
              "      <th>Driving_License</th>\n",
              "      <th>Previously_Insured</th>\n",
              "      <th>Gender_Female</th>\n",
              "      <th>Gender_Male</th>\n",
              "      <th>Vehicle_Age_1-2 Year</th>\n",
              "      <th>Vehicle_Age_&lt; 1 Year</th>\n",
              "      <th>Vehicle_Age_&gt; 2 Years</th>\n",
              "      <th>Vehicle_Damage_No</th>\n",
              "      <th>Vehicle_Damage_Yes</th>\n",
              "    </tr>\n",
              "  </thead>\n",
              "  <tbody>\n",
              "    <tr>\n",
              "      <th>53354</th>\n",
              "      <td>0.158639</td>\n",
              "      <td>-1.594289</td>\n",
              "      <td>-1.386256</td>\n",
              "      <td>0.497971</td>\n",
              "      <td>1</td>\n",
              "      <td>0</td>\n",
              "      <td>0</td>\n",
              "      <td>1</td>\n",
              "      <td>1</td>\n",
              "      <td>0</td>\n",
              "      <td>0</td>\n",
              "      <td>0</td>\n",
              "      <td>1</td>\n",
              "    </tr>\n",
              "    <tr>\n",
              "      <th>3362</th>\n",
              "      <td>-1.376259</td>\n",
              "      <td>-0.453142</td>\n",
              "      <td>0.868372</td>\n",
              "      <td>0.127308</td>\n",
              "      <td>1</td>\n",
              "      <td>0</td>\n",
              "      <td>1</td>\n",
              "      <td>0</td>\n",
              "      <td>0</td>\n",
              "      <td>1</td>\n",
              "      <td>0</td>\n",
              "      <td>0</td>\n",
              "      <td>1</td>\n",
              "    </tr>\n",
              "    <tr>\n",
              "      <th>56958</th>\n",
              "      <td>-0.957651</td>\n",
              "      <td>-1.594289</td>\n",
              "      <td>0.868372</td>\n",
              "      <td>-0.554233</td>\n",
              "      <td>1</td>\n",
              "      <td>1</td>\n",
              "      <td>0</td>\n",
              "      <td>1</td>\n",
              "      <td>0</td>\n",
              "      <td>1</td>\n",
              "      <td>0</td>\n",
              "      <td>1</td>\n",
              "      <td>0</td>\n",
              "    </tr>\n",
              "    <tr>\n",
              "      <th>50548</th>\n",
              "      <td>0.786552</td>\n",
              "      <td>-0.328644</td>\n",
              "      <td>-1.386256</td>\n",
              "      <td>0.665367</td>\n",
              "      <td>1</td>\n",
              "      <td>1</td>\n",
              "      <td>0</td>\n",
              "      <td>1</td>\n",
              "      <td>1</td>\n",
              "      <td>0</td>\n",
              "      <td>0</td>\n",
              "      <td>1</td>\n",
              "      <td>0</td>\n",
              "    </tr>\n",
              "    <tr>\n",
              "      <th>37851</th>\n",
              "      <td>2.391219</td>\n",
              "      <td>-1.594289</td>\n",
              "      <td>-1.386256</td>\n",
              "      <td>-0.315096</td>\n",
              "      <td>1</td>\n",
              "      <td>0</td>\n",
              "      <td>1</td>\n",
              "      <td>0</td>\n",
              "      <td>1</td>\n",
              "      <td>0</td>\n",
              "      <td>0</td>\n",
              "      <td>0</td>\n",
              "      <td>1</td>\n",
              "    </tr>\n",
              "    <tr>\n",
              "      <th>...</th>\n",
              "      <td>...</td>\n",
              "      <td>...</td>\n",
              "      <td>...</td>\n",
              "      <td>...</td>\n",
              "      <td>...</td>\n",
              "      <td>...</td>\n",
              "      <td>...</td>\n",
              "      <td>...</td>\n",
              "      <td>...</td>\n",
              "      <td>...</td>\n",
              "      <td>...</td>\n",
              "      <td>...</td>\n",
              "      <td>...</td>\n",
              "    </tr>\n",
              "    <tr>\n",
              "      <th>26847</th>\n",
              "      <td>0.926089</td>\n",
              "      <td>0.506003</td>\n",
              "      <td>-1.386256</td>\n",
              "      <td>0.342532</td>\n",
              "      <td>1</td>\n",
              "      <td>0</td>\n",
              "      <td>0</td>\n",
              "      <td>1</td>\n",
              "      <td>1</td>\n",
              "      <td>0</td>\n",
              "      <td>0</td>\n",
              "      <td>0</td>\n",
              "      <td>1</td>\n",
              "    </tr>\n",
              "    <tr>\n",
              "      <th>49167</th>\n",
              "      <td>-1.027419</td>\n",
              "      <td>-0.152258</td>\n",
              "      <td>0.868372</td>\n",
              "      <td>0.964288</td>\n",
              "      <td>1</td>\n",
              "      <td>1</td>\n",
              "      <td>1</td>\n",
              "      <td>0</td>\n",
              "      <td>0</td>\n",
              "      <td>1</td>\n",
              "      <td>0</td>\n",
              "      <td>1</td>\n",
              "      <td>0</td>\n",
              "    </tr>\n",
              "    <tr>\n",
              "      <th>54992</th>\n",
              "      <td>2.181915</td>\n",
              "      <td>-1.594289</td>\n",
              "      <td>-1.386256</td>\n",
              "      <td>-1.283601</td>\n",
              "      <td>1</td>\n",
              "      <td>1</td>\n",
              "      <td>1</td>\n",
              "      <td>0</td>\n",
              "      <td>1</td>\n",
              "      <td>0</td>\n",
              "      <td>0</td>\n",
              "      <td>1</td>\n",
              "      <td>0</td>\n",
              "    </tr>\n",
              "    <tr>\n",
              "      <th>86991</th>\n",
              "      <td>1.902842</td>\n",
              "      <td>-1.594289</td>\n",
              "      <td>0.367343</td>\n",
              "      <td>0.904504</td>\n",
              "      <td>1</td>\n",
              "      <td>1</td>\n",
              "      <td>0</td>\n",
              "      <td>1</td>\n",
              "      <td>1</td>\n",
              "      <td>0</td>\n",
              "      <td>0</td>\n",
              "      <td>1</td>\n",
              "      <td>0</td>\n",
              "    </tr>\n",
              "    <tr>\n",
              "      <th>4414</th>\n",
              "      <td>-0.329738</td>\n",
              "      <td>0.190799</td>\n",
              "      <td>0.367343</td>\n",
              "      <td>0.007740</td>\n",
              "      <td>1</td>\n",
              "      <td>0</td>\n",
              "      <td>0</td>\n",
              "      <td>1</td>\n",
              "      <td>1</td>\n",
              "      <td>0</td>\n",
              "      <td>0</td>\n",
              "      <td>0</td>\n",
              "      <td>1</td>\n",
              "    </tr>\n",
              "  </tbody>\n",
              "</table>\n",
              "<p>18684 rows × 13 columns</p>\n",
              "</div>"
            ],
            "text/plain": [
              "            Age  Annual_Premium  Policy_Sales_Channel   Vintage  \\\n",
              "53354  0.158639       -1.594289             -1.386256  0.497971   \n",
              "3362  -1.376259       -0.453142              0.868372  0.127308   \n",
              "56958 -0.957651       -1.594289              0.868372 -0.554233   \n",
              "50548  0.786552       -0.328644             -1.386256  0.665367   \n",
              "37851  2.391219       -1.594289             -1.386256 -0.315096   \n",
              "...         ...             ...                   ...       ...   \n",
              "26847  0.926089        0.506003             -1.386256  0.342532   \n",
              "49167 -1.027419       -0.152258              0.868372  0.964288   \n",
              "54992  2.181915       -1.594289             -1.386256 -1.283601   \n",
              "86991  1.902842       -1.594289              0.367343  0.904504   \n",
              "4414  -0.329738        0.190799              0.367343  0.007740   \n",
              "\n",
              "       Driving_License  Previously_Insured  Gender_Female  Gender_Male  \\\n",
              "53354                1                   0              0            1   \n",
              "3362                 1                   0              1            0   \n",
              "56958                1                   1              0            1   \n",
              "50548                1                   1              0            1   \n",
              "37851                1                   0              1            0   \n",
              "...                ...                 ...            ...          ...   \n",
              "26847                1                   0              0            1   \n",
              "49167                1                   1              1            0   \n",
              "54992                1                   1              1            0   \n",
              "86991                1                   1              0            1   \n",
              "4414                 1                   0              0            1   \n",
              "\n",
              "       Vehicle_Age_1-2 Year  Vehicle_Age_< 1 Year  Vehicle_Age_> 2 Years  \\\n",
              "53354                     1                     0                      0   \n",
              "3362                      0                     1                      0   \n",
              "56958                     0                     1                      0   \n",
              "50548                     1                     0                      0   \n",
              "37851                     1                     0                      0   \n",
              "...                     ...                   ...                    ...   \n",
              "26847                     1                     0                      0   \n",
              "49167                     0                     1                      0   \n",
              "54992                     1                     0                      0   \n",
              "86991                     1                     0                      0   \n",
              "4414                      1                     0                      0   \n",
              "\n",
              "       Vehicle_Damage_No  Vehicle_Damage_Yes  \n",
              "53354                  0                   1  \n",
              "3362                   0                   1  \n",
              "56958                  1                   0  \n",
              "50548                  1                   0  \n",
              "37851                  0                   1  \n",
              "...                  ...                 ...  \n",
              "26847                  0                   1  \n",
              "49167                  1                   0  \n",
              "54992                  1                   0  \n",
              "86991                  1                   0  \n",
              "4414                   0                   1  \n",
              "\n",
              "[18684 rows x 13 columns]"
            ]
          },
          "metadata": {
            "tags": []
          },
          "execution_count": 878
        }
      ]
    },
    {
      "cell_type": "code",
      "metadata": {
        "colab": {
          "base_uri": "https://localhost:8080/"
        },
        "id": "qMmjKF_MGNCH",
        "outputId": "6a0555c9-ef01-4722-c5d6-6d07ef1a104c"
      },
      "source": [
        "X_train[:1]"
      ],
      "execution_count": null,
      "outputs": [
        {
          "output_type": "execute_result",
          "data": {
            "text/html": [
              "<div>\n",
              "<style scoped>\n",
              "    .dataframe tbody tr th:only-of-type {\n",
              "        vertical-align: middle;\n",
              "    }\n",
              "\n",
              "    .dataframe tbody tr th {\n",
              "        vertical-align: top;\n",
              "    }\n",
              "\n",
              "    .dataframe thead th {\n",
              "        text-align: right;\n",
              "    }\n",
              "</style>\n",
              "<table border=\"1\" class=\"dataframe\">\n",
              "  <thead>\n",
              "    <tr style=\"text-align: right;\">\n",
              "      <th></th>\n",
              "      <th>Age</th>\n",
              "      <th>Annual_Premium</th>\n",
              "      <th>Policy_Sales_Channel</th>\n",
              "      <th>Vintage</th>\n",
              "      <th>Driving_License</th>\n",
              "      <th>Previously_Insured</th>\n",
              "      <th>Gender_Female</th>\n",
              "      <th>Gender_Male</th>\n",
              "      <th>Vehicle_Age_1-2 Year</th>\n",
              "      <th>Vehicle_Age_&lt; 1 Year</th>\n",
              "      <th>Vehicle_Age_&gt; 2 Years</th>\n",
              "      <th>Vehicle_Damage_No</th>\n",
              "      <th>Vehicle_Damage_Yes</th>\n",
              "    </tr>\n",
              "  </thead>\n",
              "  <tbody>\n",
              "    <tr>\n",
              "      <th>45320</th>\n",
              "      <td>-0.120433</td>\n",
              "      <td>0.05653</td>\n",
              "      <td>0.367343</td>\n",
              "      <td>-0.936852</td>\n",
              "      <td>1</td>\n",
              "      <td>0</td>\n",
              "      <td>0</td>\n",
              "      <td>1</td>\n",
              "      <td>0</td>\n",
              "      <td>0</td>\n",
              "      <td>1</td>\n",
              "      <td>0</td>\n",
              "      <td>1</td>\n",
              "    </tr>\n",
              "  </tbody>\n",
              "</table>\n",
              "</div>"
            ],
            "text/plain": [
              "            Age  Annual_Premium  Policy_Sales_Channel   Vintage  \\\n",
              "45320 -0.120433         0.05653              0.367343 -0.936852   \n",
              "\n",
              "       Driving_License  Previously_Insured  Gender_Female  Gender_Male  \\\n",
              "45320                1                   0              0            1   \n",
              "\n",
              "       Vehicle_Age_1-2 Year  Vehicle_Age_< 1 Year  Vehicle_Age_> 2 Years  \\\n",
              "45320                     0                     0                      1   \n",
              "\n",
              "       Vehicle_Damage_No  Vehicle_Damage_Yes  \n",
              "45320                  0                   1  "
            ]
          },
          "metadata": {
            "tags": []
          },
          "execution_count": 879
        }
      ]
    },
    {
      "cell_type": "markdown",
      "metadata": {
        "id": "y9YYmaVdPlNp"
      },
      "source": [
        "## 4. Model Selection\n",
        "        \n",
        "        \n",
        "##     4.1 Decision Tree Classifier"
      ]
    },
    {
      "cell_type": "code",
      "metadata": {
        "id": "3hdiVm9cPlNq"
      },
      "source": [
        "import sklearn.metrics as metrics\n",
        "from sklearn.tree import DecisionTreeClassifier\n",
        "dtc = DecisionTreeClassifier(criterion = 'entropy', random_state = 0)\n",
        "dtc.fit(X_train,y_train)\n",
        "\n",
        "#Predict the response for test dataset\n",
        "y_pred = dtc.predict(X_test)"
      ],
      "execution_count": null,
      "outputs": []
    },
    {
      "cell_type": "code",
      "metadata": {
        "id": "EOVEt-UNPlNq",
        "outputId": "b0a47c70-9655-4074-9dd1-fc4ac7c98e5a"
      },
      "source": [
        "print(\"Accuracy:\",metrics.accuracy_score(y_test, y_pred))\n",
        "print(\"F1:\",metrics.f1_score(y_test, y_pred))\n",
        "print(\"Recall:\",metrics.recall_score(y_test, y_pred))\n",
        "print(\"Precision:\",metrics.precision_score(y_test, y_pred))"
      ],
      "execution_count": null,
      "outputs": [
        {
          "output_type": "stream",
          "text": [
            "Accuracy: 0.7163883536715907\n",
            "F1: 0.7158865476381965\n",
            "Recall: 0.7146221365874545\n",
            "Precision: 0.7171554409711033\n"
          ],
          "name": "stdout"
        }
      ]
    },
    {
      "cell_type": "markdown",
      "metadata": {
        "id": "YqjVB-4NPlNq"
      },
      "source": [
        "## 4.2 Logistic Regression"
      ]
    },
    {
      "cell_type": "code",
      "metadata": {
        "id": "O-dUCLPcPlNr",
        "outputId": "88e6035a-bc8b-49d9-fe16-eca291faca31"
      },
      "source": [
        "from sklearn.linear_model import LogisticRegression\n",
        "logreg = LogisticRegression(random_state = 0)\n",
        "logreg.fit(X_train,y_train)\n",
        "\n",
        "y_pred=logreg.predict(X_test)\n",
        "\n",
        "# Dashboard for the model performance\n",
        "print(\"Accuracy:\",metrics.accuracy_score(y_test, y_pred))\n",
        "print(\"F1:\",metrics.f1_score(y_test, y_pred))\n",
        "print(\"Recall:\",metrics.recall_score(y_test, y_pred))\n",
        "print(\"Precision:\",metrics.precision_score(y_test, y_pred))"
      ],
      "execution_count": null,
      "outputs": [
        {
          "output_type": "stream",
          "text": [
            "Accuracy: 0.7822736030828517\n",
            "F1: 0.8172999191592561\n",
            "Recall: 0.9739884393063584\n",
            "Precision: 0.7040389972144847\n"
          ],
          "name": "stdout"
        }
      ]
    },
    {
      "cell_type": "markdown",
      "metadata": {
        "id": "hYeBa5BVPlNr"
      },
      "source": [
        "## 4.3 Random Forest Model\n"
      ]
    },
    {
      "cell_type": "code",
      "metadata": {
        "id": "RSUG3smdPlNs",
        "outputId": "17990725-017f-4fc1-e118-44becb22201a"
      },
      "source": [
        "from sklearn.ensemble import RandomForestClassifier\n",
        "rdf = RandomForestClassifier(n_estimators = 20, criterion = 'entropy', random_state = 42)\n",
        "rdf.fit(X_train,y_train)\n",
        "y_pred = rdf.predict(X_test)\n",
        "\n",
        "# Dashboard for the model performance\n",
        "print(\"Accuracy:\",metrics.accuracy_score(y_test, y_pred))\n",
        "print(\"F1:\",metrics.f1_score(y_test, y_pred))\n",
        "print(\"Recall:\",metrics.recall_score(y_test, y_pred))\n",
        "print(\"Precision:\",metrics.precision_score(y_test, y_pred))\n"
      ],
      "execution_count": null,
      "outputs": [
        {
          "output_type": "stream",
          "text": [
            "Accuracy: 0.7684649967886962\n",
            "F1: 0.7819995968554726\n",
            "Recall: 0.8305502033825733\n",
            "Precision: 0.7388116549228718\n"
          ],
          "name": "stdout"
        }
      ]
    },
    {
      "cell_type": "code",
      "metadata": {
        "id": "omNWumJaPlNu",
        "outputId": "60a19df7-410f-4837-c26a-1a45f4455d91"
      },
      "source": [
        "# Confusion matrix gives an overview about performance metrics\n",
        "from sklearn.metrics import confusion_matrix, accuracy_score\n",
        "from sklearn.metrics import classification_report, confusion_matrix\n",
        "print(metrics.classification_report(y_test, y_pred))\n",
        "accuracy_score(y_test, y_pred)"
      ],
      "execution_count": null,
      "outputs": [
        {
          "output_type": "stream",
          "text": [
            "              precision    recall  f1-score   support\n",
            "\n",
            "           0       0.81      0.71      0.75      9342\n",
            "           1       0.74      0.83      0.78      9342\n",
            "\n",
            "    accuracy                           0.77     18684\n",
            "   macro avg       0.77      0.77      0.77     18684\n",
            "weighted avg       0.77      0.77      0.77     18684\n",
            "\n"
          ],
          "name": "stdout"
        },
        {
          "output_type": "execute_result",
          "data": {
            "text/plain": [
              "0.7684649967886962"
            ]
          },
          "metadata": {
            "tags": []
          },
          "execution_count": 884
        }
      ]
    },
    {
      "cell_type": "code",
      "metadata": {
        "id": "hzzqPf3tPlNu",
        "outputId": "51a1b69f-e1a9-418b-944f-2b6f738634d9"
      },
      "source": [
        "from sklearn.model_selection import cross_val_score\n",
        "dt=RandomForestClassifier()\n",
        "crossval=cross_val_score(dt,X,y,cv=5)\n",
        "print(crossval)\n",
        "np.mean(crossval)"
      ],
      "execution_count": null,
      "outputs": [
        {
          "output_type": "stream",
          "text": [
            "[0.77842004 0.7798116  0.7729073  0.77847356 0.77617213]\n"
          ],
          "name": "stdout"
        },
        {
          "output_type": "execute_result",
          "data": {
            "text/plain": [
              "0.7771569257118391"
            ]
          },
          "metadata": {
            "tags": []
          },
          "execution_count": 885
        }
      ]
    },
    {
      "cell_type": "markdown",
      "metadata": {
        "id": "JE-BlbcNPlNv"
      },
      "source": [
        "## 4.4 K-nearest neighbors Classifier model"
      ]
    },
    {
      "cell_type": "code",
      "metadata": {
        "id": "UYORpmJKPlNv",
        "outputId": "40793cf1-b916-4a1c-b68a-5cbaf60c1f10"
      },
      "source": [
        "from sklearn.neighbors import KNeighborsClassifier\n",
        "knn = KNeighborsClassifier(n_neighbors = 5, metric = 'minkowski', p = 2)\n",
        "knn.fit(X_train,y_train)\n",
        "\n",
        "#Predict the response for test dataset\n",
        "y_pred = knn.predict(X_test)\n",
        "\n",
        "# Dashboard for the model performance\n",
        "print(\"Accuracy:\",metrics.accuracy_score(y_test, y_pred))\n",
        "print(\"F1:\",metrics.f1_score(y_test, y_pred))\n",
        "print(\"Recall:\",metrics.recall_score(y_test, y_pred))\n",
        "print(\"Precision:\",metrics.precision_score(y_test, y_pred))"
      ],
      "execution_count": null,
      "outputs": [
        {
          "output_type": "stream",
          "text": [
            "Accuracy: 0.763380432455577\n",
            "F1: 0.7801044516289479\n",
            "Recall: 0.8394348105330764\n",
            "Precision: 0.7286072656322586\n"
          ],
          "name": "stdout"
        }
      ]
    },
    {
      "cell_type": "markdown",
      "metadata": {
        "id": "k4a7cDKvPlNw"
      },
      "source": [
        "## 5) Parameter Tuning/ Optimization\n",
        "Randomizedsearch/ Optimization is quoted from the following kaggle link\n",
        "source: https://www.kaggle.com/funxexcel/p3-random-forest-tuning-randomizedsearchcv"
      ]
    },
    {
      "cell_type": "code",
      "metadata": {
        "id": "psVva4iHPlNx"
      },
      "source": [
        "# Number of trees in random forest\n",
        "n_estimators = [int(x) for x in np.linspace(start = 10, stop = 80, num = 10)]\n",
        "# Number of features to consider at every split\n",
        "max_features = ['auto', 'sqrt']\n",
        "# Maximum number of levels in tree\n",
        "max_depth = [2,4]\n",
        "# Minimum number of samples required to split a node\n",
        "min_samples_split = [2, 5]\n",
        "# Minimum number of samples required at each leaf node\n",
        "min_samples_leaf = [1, 2]\n",
        "# Method of selecting samples for training each tree\n",
        "bootstrap = [True, False]\n",
        "\n"
      ],
      "execution_count": null,
      "outputs": []
    },
    {
      "cell_type": "code",
      "metadata": {
        "id": "ICUdjh3qPlNx",
        "outputId": "561be997-20a8-4c65-e381-31cf9107a81b"
      },
      "source": [
        "# Create the param grid\n",
        "param_grid = {'n_estimators': n_estimators,\n",
        "               'max_features': max_features,\n",
        "               'max_depth': max_depth,\n",
        "               'min_samples_split': min_samples_split,\n",
        "               'min_samples_leaf': min_samples_leaf,\n",
        "               'bootstrap': bootstrap}\n",
        "print(param_grid)"
      ],
      "execution_count": null,
      "outputs": [
        {
          "output_type": "stream",
          "text": [
            "{'n_estimators': [10, 17, 25, 33, 41, 48, 56, 64, 72, 80], 'max_features': ['auto', 'sqrt'], 'max_depth': [2, 4], 'min_samples_split': [2, 5], 'min_samples_leaf': [1, 2], 'bootstrap': [True, False]}\n"
          ],
          "name": "stdout"
        }
      ]
    },
    {
      "cell_type": "code",
      "metadata": {
        "id": "YGzHO8muPlNy"
      },
      "source": [
        "rf_Model = RandomForestClassifier()\n",
        "from sklearn.model_selection import RandomizedSearchCV\n",
        "rf_RandomGrid = RandomizedSearchCV(estimator = rf_Model, param_distributions = param_grid, cv = 10, verbose=2, n_jobs = 4)"
      ],
      "execution_count": null,
      "outputs": []
    },
    {
      "cell_type": "code",
      "metadata": {
        "id": "D4ZQJDd_PlNy",
        "outputId": "cd1cd5d0-fc09-49c3-ee79-1d690cd22f93"
      },
      "source": [
        "rf_RandomGrid.fit(X_train, y_train)\n"
      ],
      "execution_count": null,
      "outputs": [
        {
          "output_type": "stream",
          "text": [
            "Fitting 10 folds for each of 10 candidates, totalling 100 fits\n"
          ],
          "name": "stdout"
        },
        {
          "output_type": "execute_result",
          "data": {
            "text/plain": [
              "RandomizedSearchCV(cv=10, estimator=RandomForestClassifier(), n_jobs=4,\n",
              "                   param_distributions={'bootstrap': [True, False],\n",
              "                                        'max_depth': [2, 4],\n",
              "                                        'max_features': ['auto', 'sqrt'],\n",
              "                                        'min_samples_leaf': [1, 2],\n",
              "                                        'min_samples_split': [2, 5],\n",
              "                                        'n_estimators': [10, 17, 25, 33, 41, 48,\n",
              "                                                         56, 64, 72, 80]},\n",
              "                   verbose=2)"
            ]
          },
          "metadata": {
            "tags": []
          },
          "execution_count": 890
        }
      ]
    },
    {
      "cell_type": "code",
      "metadata": {
        "id": "7QmIEL6XPlNy",
        "outputId": "69cd5a89-4af1-415b-ea2e-0ddb45c9182f"
      },
      "source": [
        "rf_RandomGrid.best_params_"
      ],
      "execution_count": null,
      "outputs": [
        {
          "output_type": "execute_result",
          "data": {
            "text/plain": [
              "{'n_estimators': 80,\n",
              " 'min_samples_split': 5,\n",
              " 'min_samples_leaf': 1,\n",
              " 'max_features': 'sqrt',\n",
              " 'max_depth': 4,\n",
              " 'bootstrap': True}"
            ]
          },
          "metadata": {
            "tags": []
          },
          "execution_count": 891
        }
      ]
    },
    {
      "cell_type": "code",
      "metadata": {
        "id": "rzHfeIisPlNy",
        "outputId": "04990495-ca22-4a14-a6fd-e8e91ce7b3b3"
      },
      "source": [
        "print (f'Train Accuracy - : {rf_RandomGrid.score(X_train,y_train):.3f}')\n",
        "print (f'Test Accuracy - : {rf_RandomGrid.score(X_test,y_test):.3f}')"
      ],
      "execution_count": null,
      "outputs": [
        {
          "output_type": "stream",
          "text": [
            "Train Accuracy - : 0.796\n",
            "Test Accuracy - : 0.798\n"
          ],
          "name": "stdout"
        }
      ]
    },
    {
      "cell_type": "markdown",
      "metadata": {
        "id": "av9Z5PbcPlNz"
      },
      "source": [
        "## Deep Learning-Keras Binary Classification unsing Sequential Layers"
      ]
    },
    {
      "cell_type": "code",
      "metadata": {
        "id": "v97b5YsdPlNz",
        "outputId": "8788ca5e-9781-4045-c05c-4d0154cd4e60"
      },
      "source": [
        "X_train,y_train, X_test, y_test"
      ],
      "execution_count": null,
      "outputs": [
        {
          "output_type": "execute_result",
          "data": {
            "text/plain": [
              "(            Age  Annual_Premium  Policy_Sales_Channel   Vintage  \\\n",
              " 45320 -0.120433        0.056530              0.367343 -0.936852   \n",
              " 24430  0.158639        0.311029             -1.386256 -1.044464   \n",
              " 70405 -1.376259        0.456866              0.868372  1.418649   \n",
              " 13982 -0.748346        0.491346              0.367343 -0.075958   \n",
              " 9756   0.507480       -0.213244             -1.386256 -1.546652   \n",
              " ...         ...             ...                   ...       ...   \n",
              " 82676  2.460987        0.080677              0.367343 -1.343385   \n",
              " 42238  0.158639        0.904654              0.367343  1.550174   \n",
              " 14918  0.158639       -1.594289              0.367343  1.047986   \n",
              " 72479 -1.166955        0.621123              0.868372 -0.602060   \n",
              " 38320  0.298175        0.372688              0.367343  1.526261   \n",
              " \n",
              "        Driving_License  Previously_Insured  Gender_Female  Gender_Male  \\\n",
              " 45320                1                   0              0            1   \n",
              " 24430                1                   0              1            0   \n",
              " 70405                1                   1              1            0   \n",
              " 13982                1                   0              0            1   \n",
              " 9756                 1                   0              0            1   \n",
              " ...                ...                 ...            ...          ...   \n",
              " 82676                1                   1              0            1   \n",
              " 42238                1                   0              0            1   \n",
              " 14918                1                   0              0            1   \n",
              " 72479                1                   1              1            0   \n",
              " 38320                1                   0              1            0   \n",
              " \n",
              "        Vehicle_Age_1-2 Year  Vehicle_Age_< 1 Year  Vehicle_Age_> 2 Years  \\\n",
              " 45320                     0                     0                      1   \n",
              " 24430                     1                     0                      0   \n",
              " 70405                     0                     1                      0   \n",
              " 13982                     1                     0                      0   \n",
              " 9756                      1                     0                      0   \n",
              " ...                     ...                   ...                    ...   \n",
              " 82676                     1                     0                      0   \n",
              " 42238                     1                     0                      0   \n",
              " 14918                     1                     0                      0   \n",
              " 72479                     0                     1                      0   \n",
              " 38320                     1                     0                      0   \n",
              " \n",
              "        Vehicle_Damage_No  Vehicle_Damage_Yes  \n",
              " 45320                  0                   1  \n",
              " 24430                  0                   1  \n",
              " 70405                  0                   1  \n",
              " 13982                  0                   1  \n",
              " 9756                   0                   1  \n",
              " ...                  ...                 ...  \n",
              " 82676                  1                   0  \n",
              " 42238                  0                   1  \n",
              " 14918                  0                   1  \n",
              " 72479                  1                   0  \n",
              " 38320                  0                   1  \n",
              " \n",
              " [74736 rows x 13 columns],\n",
              "         Response\n",
              " 369463         1\n",
              " 199261         1\n",
              " 328117         0\n",
              " 113524         1\n",
              " 78935          1\n",
              " ...          ...\n",
              " 263443         0\n",
              " 343515         1\n",
              " 121738         1\n",
              " 142333         0\n",
              " 311733         1\n",
              " \n",
              " [74736 rows x 1 columns],\n",
              "             Age  Annual_Premium  Policy_Sales_Channel   Vintage  \\\n",
              " 53354  0.158639       -1.594289             -1.386256  0.497971   \n",
              " 3362  -1.376259       -0.453142              0.868372  0.127308   \n",
              " 56958 -0.957651       -1.594289              0.868372 -0.554233   \n",
              " 50548  0.786552       -0.328644             -1.386256  0.665367   \n",
              " 37851  2.391219       -1.594289             -1.386256 -0.315096   \n",
              " ...         ...             ...                   ...       ...   \n",
              " 26847  0.926089        0.506003             -1.386256  0.342532   \n",
              " 49167 -1.027419       -0.152258              0.868372  0.964288   \n",
              " 54992  2.181915       -1.594289             -1.386256 -1.283601   \n",
              " 86991  1.902842       -1.594289              0.367343  0.904504   \n",
              " 4414  -0.329738        0.190799              0.367343  0.007740   \n",
              " \n",
              "        Driving_License  Previously_Insured  Gender_Female  Gender_Male  \\\n",
              " 53354                1                   0              0            1   \n",
              " 3362                 1                   0              1            0   \n",
              " 56958                1                   1              0            1   \n",
              " 50548                1                   1              0            1   \n",
              " 37851                1                   0              1            0   \n",
              " ...                ...                 ...            ...          ...   \n",
              " 26847                1                   0              0            1   \n",
              " 49167                1                   1              1            0   \n",
              " 54992                1                   1              1            0   \n",
              " 86991                1                   1              0            1   \n",
              " 4414                 1                   0              0            1   \n",
              " \n",
              "        Vehicle_Age_1-2 Year  Vehicle_Age_< 1 Year  Vehicle_Age_> 2 Years  \\\n",
              " 53354                     1                     0                      0   \n",
              " 3362                      0                     1                      0   \n",
              " 56958                     0                     1                      0   \n",
              " 50548                     1                     0                      0   \n",
              " 37851                     1                     0                      0   \n",
              " ...                     ...                   ...                    ...   \n",
              " 26847                     1                     0                      0   \n",
              " 49167                     0                     1                      0   \n",
              " 54992                     1                     0                      0   \n",
              " 86991                     1                     0                      0   \n",
              " 4414                      1                     0                      0   \n",
              " \n",
              "        Vehicle_Damage_No  Vehicle_Damage_Yes  \n",
              " 53354                  0                   1  \n",
              " 3362                   0                   1  \n",
              " 56958                  1                   0  \n",
              " 50548                  1                   0  \n",
              " 37851                  0                   1  \n",
              " ...                  ...                 ...  \n",
              " 26847                  0                   1  \n",
              " 49167                  1                   0  \n",
              " 54992                  1                   0  \n",
              " 86991                  1                   0  \n",
              " 4414                   0                   1  \n",
              " \n",
              " [18684 rows x 13 columns],\n",
              "         Response\n",
              " 222487         0\n",
              " 27102          1\n",
              " 53235          0\n",
              " 105009         0\n",
              " 307996         1\n",
              " ...          ...\n",
              " 218949         1\n",
              " 165580         0\n",
              " 20131          0\n",
              " 131980         0\n",
              " 36225          1\n",
              " \n",
              " [18684 rows x 1 columns])"
            ]
          },
          "metadata": {
            "tags": []
          },
          "execution_count": 893
        }
      ]
    },
    {
      "cell_type": "code",
      "metadata": {
        "id": "pL-w78CdPlNz"
      },
      "source": [
        "from keras.models import Sequential\n",
        "from keras.layers import Dense\n",
        "from keras.layers import Dropout"
      ],
      "execution_count": null,
      "outputs": []
    },
    {
      "cell_type": "code",
      "metadata": {
        "id": "aktWAZePPlN0"
      },
      "source": [
        "# sequential model is used\n",
        "model = Sequential()\n",
        "\n",
        "# adding first input layer and hidden layer\n",
        "model.add(Dense(5, activation='relu', input_dim=13))\n",
        "# drop out will make some of the nodes hidden - which increase the model accuracy\n",
        "model.add(Dropout(0.2))\n",
        "model.add(Dense(5,activation='relu'))\n",
        "# last layer - as this is classification problem, sigmoid will output probabilities\n",
        "model.add(Dense(1, activation='sigmoid'))\n",
        "\n",
        "# binary classification will squash probabilities between 0 and 1\n",
        "model.compile(loss='binary_crossentropy',optimizer='adam',metrics=['accuracy'])"
      ],
      "execution_count": null,
      "outputs": []
    },
    {
      "cell_type": "code",
      "metadata": {
        "id": "UdFP8VpOPlN0",
        "outputId": "2fa731e1-b113-4c7f-a71f-6ad0cf229b04"
      },
      "source": [
        "# training model\n",
        "model.fit(X_train, y_train,epochs=30)"
      ],
      "execution_count": null,
      "outputs": [
        {
          "output_type": "stream",
          "text": [
            "Epoch 1/30\n",
            "2336/2336 [==============================] - 2s 613us/step - loss: 0.5511 - accuracy: 0.7014\n",
            "Epoch 2/30\n",
            "2336/2336 [==============================] - 1s 612us/step - loss: 0.4764 - accuracy: 0.7765\n",
            "Epoch 3/30\n",
            "2336/2336 [==============================] - 1s 580us/step - loss: 0.4744 - accuracy: 0.7764\n",
            "Epoch 4/30\n",
            "2336/2336 [==============================] - 1s 536us/step - loss: 0.4672 - accuracy: 0.7788\n",
            "Epoch 5/30\n",
            "2336/2336 [==============================] - 1s 578us/step - loss: 0.4516 - accuracy: 0.7837\n",
            "Epoch 6/30\n",
            "2336/2336 [==============================] - 1s 565us/step - loss: 0.4493 - accuracy: 0.7798\n",
            "Epoch 7/30\n",
            "2336/2336 [==============================] - 1s 578us/step - loss: 0.4475 - accuracy: 0.7788\n",
            "Epoch 8/30\n",
            "2336/2336 [==============================] - 2s 671us/step - loss: 0.4495 - accuracy: 0.7762\n",
            "Epoch 9/30\n",
            "2336/2336 [==============================] - 2s 756us/step - loss: 0.4515 - accuracy: 0.7775\n",
            "Epoch 10/30\n",
            "2336/2336 [==============================] - 2s 668us/step - loss: 0.4477 - accuracy: 0.7800\n",
            "Epoch 11/30\n",
            "2336/2336 [==============================] - 1s 633us/step - loss: 0.4483 - accuracy: 0.7804\n",
            "Epoch 12/30\n",
            "2336/2336 [==============================] - 2s 646us/step - loss: 0.4466 - accuracy: 0.7810\n",
            "Epoch 13/30\n",
            "2336/2336 [==============================] - 1s 609us/step - loss: 0.4483 - accuracy: 0.7811\n",
            "Epoch 14/30\n",
            "2336/2336 [==============================] - 1s 573us/step - loss: 0.4505 - accuracy: 0.7780\n",
            "Epoch 15/30\n",
            "2336/2336 [==============================] - 1s 575us/step - loss: 0.4488 - accuracy: 0.7801\n",
            "Epoch 16/30\n",
            "2336/2336 [==============================] - 1s 559us/step - loss: 0.4436 - accuracy: 0.7822\n",
            "Epoch 17/30\n",
            "2336/2336 [==============================] - 1s 573us/step - loss: 0.4483 - accuracy: 0.7793\n",
            "Epoch 18/30\n",
            "2336/2336 [==============================] - 1s 580us/step - loss: 0.4439 - accuracy: 0.7805\n",
            "Epoch 19/30\n",
            "2336/2336 [==============================] - 1s 592us/step - loss: 0.4468 - accuracy: 0.7808\n",
            "Epoch 20/30\n",
            "2336/2336 [==============================] - 1s 606us/step - loss: 0.4483 - accuracy: 0.7807\n",
            "Epoch 21/30\n",
            "2336/2336 [==============================] - 1s 586us/step - loss: 0.4504 - accuracy: 0.7773\n",
            "Epoch 22/30\n",
            "2336/2336 [==============================] - 1s 567us/step - loss: 0.4470 - accuracy: 0.7802\n",
            "Epoch 23/30\n",
            "2336/2336 [==============================] - 1s 568us/step - loss: 0.4503 - accuracy: 0.7785\n",
            "Epoch 24/30\n",
            "2336/2336 [==============================] - 1s 590us/step - loss: 0.4491 - accuracy: 0.7781\n",
            "Epoch 25/30\n",
            "2336/2336 [==============================] - 1s 580us/step - loss: 0.4470 - accuracy: 0.7805\n",
            "Epoch 26/30\n",
            "2336/2336 [==============================] - 1s 573us/step - loss: 0.4474 - accuracy: 0.7803\n",
            "Epoch 27/30\n",
            "2336/2336 [==============================] - 1s 615us/step - loss: 0.4458 - accuracy: 0.7810\n",
            "Epoch 28/30\n",
            "2336/2336 [==============================] - 2s 692us/step - loss: 0.4441 - accuracy: 0.7836\n",
            "Epoch 29/30\n",
            "2336/2336 [==============================] - 1s 640us/step - loss: 0.4472 - accuracy: 0.7796\n",
            "Epoch 30/30\n",
            "2336/2336 [==============================] - 2s 669us/step - loss: 0.4483 - accuracy: 0.7785\n"
          ],
          "name": "stdout"
        },
        {
          "output_type": "execute_result",
          "data": {
            "text/plain": [
              "<tensorflow.python.keras.callbacks.History at 0x7fa483252280>"
            ]
          },
          "metadata": {
            "tags": []
          },
          "execution_count": 896
        }
      ]
    },
    {
      "cell_type": "code",
      "metadata": {
        "id": "udrXhAhAPlN0"
      },
      "source": [
        "y_pred = model.predict_classes(X_test)"
      ],
      "execution_count": null,
      "outputs": []
    },
    {
      "cell_type": "code",
      "metadata": {
        "id": "flC0_JMsPlN0"
      },
      "source": [
        "# flatting the output prediction\n",
        "y_pred = y_pred.reshape(1, -1)[0]"
      ],
      "execution_count": null,
      "outputs": []
    },
    {
      "cell_type": "code",
      "metadata": {
        "id": "Fw9ROxqWPlN1"
      },
      "source": [
        "y_test['Prediction'] = y_pred"
      ],
      "execution_count": null,
      "outputs": []
    },
    {
      "cell_type": "code",
      "metadata": {
        "id": "J3wPi6BaPlN1"
      },
      "source": [
        "y_test['Result'] = y_test['Response'] == y_test['Prediction']"
      ],
      "execution_count": null,
      "outputs": []
    },
    {
      "cell_type": "code",
      "metadata": {
        "id": "975Z7DS-PlN1",
        "outputId": "c98dc764-9a92-48c4-eb96-aba5082324b7"
      },
      "source": [
        "# calculating accuracy\n",
        "acc = y_test['Result'].value_counts()[True] / len(y_test)\n",
        "print(acc)"
      ],
      "execution_count": null,
      "outputs": [
        {
          "output_type": "stream",
          "text": [
            "0.7964568614857632\n"
          ],
          "name": "stdout"
        }
      ]
    },
    {
      "cell_type": "markdown",
      "metadata": {
        "id": "woFDvt6DPlN1"
      },
      "source": [
        "## ----- The End of the Project-----"
      ]
    }
  ]
}